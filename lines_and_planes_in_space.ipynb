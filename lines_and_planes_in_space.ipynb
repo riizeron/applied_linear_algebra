{
  "nbformat": 4,
  "nbformat_minor": 0,
  "metadata": {
    "kernelspec": {
      "display_name": "Python 3",
      "language": "python",
      "name": "python3"
    },
    "language_info": {
      "codemirror_mode": {
        "name": "ipython",
        "version": 3
      },
      "file_extension": ".py",
      "mimetype": "text/x-python",
      "name": "python",
      "nbconvert_exporter": "python",
      "pygments_lexer": "ipython3",
      "version": "3.7.3"
    },
    "colab": {
      "name": "Davydov_Alg_7_2020_tasks.ipynb",
      "provenance": [],
      "collapsed_sections": []
    }
  },
  "cells": [
    {
      "cell_type": "code",
      "metadata": {
        "colab": {
          "base_uri": "https://localhost:8080/"
        },
        "id": "xDGXbqfp0XQ5",
        "outputId": "85c21c62-a8fe-4a0f-fd34-1e37a1e2e9d7"
      },
      "source": [
        "!python -m pip install sympy --upgrade"
      ],
      "execution_count": null,
      "outputs": [
        {
          "output_type": "stream",
          "text": [
            "Requirement already up-to-date: sympy in /usr/local/lib/python3.6/dist-packages (1.7.1)\n",
            "Requirement already satisfied, skipping upgrade: mpmath>=0.19 in /usr/local/lib/python3.6/dist-packages (from sympy) (1.1.0)\n"
          ],
          "name": "stdout"
        }
      ]
    },
    {
      "cell_type": "code",
      "metadata": {
        "colab": {
          "base_uri": "https://localhost:8080/",
          "height": 35
        },
        "id": "8WKf_ji30XRo",
        "outputId": "8fe34a78-8425-4694-e19d-cf4cea1b1640"
      },
      "source": [
        "import sympy\n",
        "sympy.__version__"
      ],
      "execution_count": null,
      "outputs": [
        {
          "output_type": "execute_result",
          "data": {
            "application/vnd.google.colaboratory.intrinsic+json": {
              "type": "string"
            },
            "text/plain": [
              "'1.7.1'"
            ]
          },
          "metadata": {
            "tags": []
          },
          "execution_count": 2
        }
      ]
    },
    {
      "cell_type": "code",
      "metadata": {
        "id": "Azl7OKqc0XRq"
      },
      "source": [
        "import sympy\n",
        "from sympy import  Point, Line, Plane, Point3D, solve, solveset"
      ],
      "execution_count": null,
      "outputs": []
    },
    {
      "cell_type": "markdown",
      "metadata": {
        "id": "K0o5xZIb0XRt"
      },
      "source": [
        "# Лабораторная работа 7\n",
        "# Алгебра\n",
        "https://docs.sympy.org/latest/search.html?q=geometry\n",
        "\n",
        "## Прямые и плоскости в пространстве. Модуль Geometry\n",
        "### Задание 1.\n",
        "Даны точки: $A(3, -2, 3)$,  $B(-2, 3, 1)$, $C(1, -8, 6)$, $D(1, 2, 4)$, $F(-7, 8, -1)$.\n",
        "\n",
        "Проверить, различны ли прямые $AB$ и $AF$, $BC$ и $CD$, $ABC$ и $ACF$, $ABC$ и $ACD$. "
      ]
    },
    {
      "cell_type": "code",
      "metadata": {
        "colab": {
          "base_uri": "https://localhost:8080/",
          "height": 85
        },
        "id": "XPtOcXhF0XRv",
        "outputId": "d865c224-a340-45c2-eb0d-e68c6834cd65"
      },
      "source": [
        "A=Point(3,-2,3)\n",
        "B=Point(-2,3,1)\n",
        "C=Point(1,-8,6)\n",
        "D=Point(1,2,4)\n",
        "F=Point(-7,8,-1)\n",
        "AB=Line(A,B)\n",
        "AF=Line(A,F)\n",
        "BC=Line(B,C)\n",
        "CD=Line(C,D)\n",
        "ABC=Plane(A,B,C)\n",
        "ACF=Plane(A,C,F)\n",
        "ACD=Plane(A,C,D)\n",
        "display(AB.equals(AF))\n",
        "display(BC.equals(CD))\n",
        "display(ABC.equals(ACF))\n",
        "display(ABC.equals(ACD))"
      ],
      "execution_count": null,
      "outputs": [
        {
          "output_type": "display_data",
          "data": {
            "text/plain": [
              "True"
            ]
          },
          "metadata": {
            "tags": []
          }
        },
        {
          "output_type": "display_data",
          "data": {
            "text/plain": [
              "False"
            ]
          },
          "metadata": {
            "tags": []
          }
        },
        {
          "output_type": "display_data",
          "data": {
            "text/plain": [
              "True"
            ]
          },
          "metadata": {
            "tags": []
          }
        },
        {
          "output_type": "display_data",
          "data": {
            "text/plain": [
              "False"
            ]
          },
          "metadata": {
            "tags": []
          }
        }
      ]
    },
    {
      "cell_type": "markdown",
      "metadata": {
        "id": "w3AuNOEi0XRw"
      },
      "source": [
        "###  Задание 2\n",
        "Вывести на экран уравнение обеих биссектрис двугранных углов, образованных при пересечении плоскостей АВС и АСD.\n",
        "\n",
        "Указание: расстояние от любой точки на биссектрисе до каждой из плоскостей АВС и АСD одинаково, полученное из этого уравнение описывает обе биссектрисы, упрощать его не нужно."
      ]
    },
    {
      "cell_type": "code",
      "metadata": {
        "id": "7g-O71PH0XRy"
      },
      "source": [
        ""
      ],
      "execution_count": null,
      "outputs": []
    },
    {
      "cell_type": "markdown",
      "metadata": {
        "id": "hYWaE1pd0XR1"
      },
      "source": [
        "###  Задание 3\n",
        "Построить плоскость, перпендикулярную плоскости АВС, проходящую через D и начало координат. Найти линию пересечения АВС и этой плоскости."
      ]
    },
    {
      "cell_type": "code",
      "metadata": {
        "colab": {
          "base_uri": "https://localhost:8080/",
          "height": 38
        },
        "id": "IoXJ9T0Y0XR3",
        "outputId": "2909dc09-d43d-44ff-ff93-c62e619acef7"
      },
      "source": [
        "URL=ABC.perpendicular_plane(D,Point(0,0,0))\n",
        "URL.equation()"
      ],
      "execution_count": null,
      "outputs": [
        {
          "output_type": "execute_result",
          "data": {
            "text/latex": "$\\displaystyle - 4 x + 28 y - 13 z$",
            "text/plain": [
              "-4*x + 28*y - 13*z"
            ]
          },
          "metadata": {
            "tags": []
          },
          "execution_count": 5
        }
      ]
    },
    {
      "cell_type": "code",
      "metadata": {
        "colab": {
          "base_uri": "https://localhost:8080/"
        },
        "id": "XRoZ2cqA3mTR",
        "outputId": "173431bf-6c14-4729-f696-309fd445a593"
      },
      "source": [
        "ABC.intersection(URL)"
      ],
      "execution_count": null,
      "outputs": [
        {
          "output_type": "execute_result",
          "data": {
            "text/plain": [
              "[Line3D(Point3D(637/40, 91/40, 0), Point3D(-54043/40, -4749/40, 160))]"
            ]
          },
          "metadata": {
            "tags": []
          },
          "execution_count": 6
        }
      ]
    },
    {
      "cell_type": "markdown",
      "metadata": {
        "id": "uef6qqRy0XR4"
      },
      "source": [
        "###  Задание 4\n",
        "Найти пересечение плоскости АВС и прямой DK, где K(3,-2, 3)."
      ]
    },
    {
      "cell_type": "code",
      "metadata": {
        "colab": {
          "base_uri": "https://localhost:8080/"
        },
        "id": "GvPOo53v0XR5",
        "outputId": "c1995747-a8e1-4616-8a28-6fd0137f5213"
      },
      "source": [
        "K=Point(3,-2,3)\n",
        "DK=Line(D,K)\n",
        "H=ABC.intersection(DK)\n",
        "H"
      ],
      "execution_count": null,
      "outputs": [
        {
          "output_type": "execute_result",
          "data": {
            "text/plain": [
              "[Point3D(3, -2, 3)]"
            ]
          },
          "metadata": {
            "tags": []
          },
          "execution_count": 7
        }
      ]
    },
    {
      "cell_type": "markdown",
      "metadata": {
        "id": "Ez3xtc2x0XR6"
      },
      "source": [
        "###  Задание 5\n",
        "Проверить, что точка пересечения из Задания 4 лежит в плоскости AFC."
      ]
    },
    {
      "cell_type": "code",
      "metadata": {
        "colab": {
          "base_uri": "https://localhost:8080/"
        },
        "id": "B0-CIl8G0XR7",
        "outputId": "bc104f13-d372-4729-f478-1a78a9f39426"
      },
      "source": [
        "H2=ACF.intersection(DK)\n",
        "H2==H"
      ],
      "execution_count": null,
      "outputs": [
        {
          "output_type": "execute_result",
          "data": {
            "text/plain": [
              "True"
            ]
          },
          "metadata": {
            "tags": []
          },
          "execution_count": 10
        }
      ]
    },
    {
      "cell_type": "markdown",
      "metadata": {
        "id": "NZnDVYUP0XR7"
      },
      "source": [
        "###  Задание 6\n",
        "Даны точки: A(3, -2, 3),  B(-2, 3, 1), C(1, -8, 6), D(1, 2, 4), F(-7, 8, -1).\n",
        "\n",
        "Составить словарь всех прямых (в нем должны быть и прямая АВ, и ВА!), каждая из которых проходит хотя бы через две заданные точки, ключ - сама прямая (Line), значение - список из имен ВСЕХ точек, лежащих на этой прямой. Вывести на экран имена только тех прямых, на которых лежит не менее трех точек из условия, а также список точек, лежащих на прямой."
      ]
    },
    {
      "cell_type": "code",
      "metadata": {
        "colab": {
          "base_uri": "https://localhost:8080/"
        },
        "id": "5ss-BJbV0XR8",
        "outputId": "3cae2ea0-b6a8-4065-d07e-20b01b3d8659"
      },
      "source": [
        "A=Point(3,-2,3)\n",
        "B=Point(-2,3,1)\n",
        "C=Point(1,-8,6)\n",
        "D=Point(1,2,4)\n",
        "F=Point(-7,8,-1)\n",
        "Points_list = [A, B, C, D, F]\n",
        "Point_names = ['A','B','C','D', 'F']\n",
        "points_numbers = range(len(Point_names))\n",
        "Points = dict([(Point_names[i], Points_list[i]) for i in points_numbers])\n",
        "Points"
      ],
      "execution_count": null,
      "outputs": [
        {
          "output_type": "execute_result",
          "data": {
            "text/plain": [
              "{'A': Point3D(3, -2, 3),\n",
              " 'B': Point3D(-2, 3, 1),\n",
              " 'C': Point3D(1, -8, 6),\n",
              " 'D': Point3D(1, 2, 4),\n",
              " 'F': Point3D(-7, 8, -1)}"
            ]
          },
          "metadata": {
            "tags": []
          },
          "execution_count": 12
        }
      ]
    },
    {
      "cell_type": "code",
      "metadata": {
        "colab": {
          "base_uri": "https://localhost:8080/",
          "height": 187
        },
        "id": "Bb8jiTUM6X-x",
        "outputId": "ffe3b0dd-cb73-4194-c34c-8c95c3b28384"
      },
      "source": [
        "lines = {P1 + P2: Line(Points[P1], Points[P2]) for P1 in Points.keys() for P2 in Points.keys() if P1 <\n",
        "P2}\n",
        "display(lines)"
      ],
      "execution_count": null,
      "outputs": [
        {
          "output_type": "display_data",
          "data": {
            "text/plain": [
              "{'AB': Line3D(Point3D(3, -2, 3), Point3D(-2, 3, 1)),\n",
              " 'AC': Line3D(Point3D(3, -2, 3), Point3D(1, -8, 6)),\n",
              " 'AD': Line3D(Point3D(3, -2, 3), Point3D(1, 2, 4)),\n",
              " 'AF': Line3D(Point3D(3, -2, 3), Point3D(-7, 8, -1)),\n",
              " 'BC': Line3D(Point3D(-2, 3, 1), Point3D(1, -8, 6)),\n",
              " 'BD': Line3D(Point3D(-2, 3, 1), Point3D(1, 2, 4)),\n",
              " 'BF': Line3D(Point3D(-2, 3, 1), Point3D(-7, 8, -1)),\n",
              " 'CD': Line3D(Point3D(1, -8, 6), Point3D(1, 2, 4)),\n",
              " 'CF': Line3D(Point3D(1, -8, 6), Point3D(-7, 8, -1)),\n",
              " 'DF': Line3D(Point3D(1, 2, 4), Point3D(-7, 8, -1))}"
            ]
          },
          "metadata": {
            "tags": []
          }
        }
      ]
    },
    {
      "cell_type": "code",
      "metadata": {
        "colab": {
          "base_uri": "https://localhost:8080/"
        },
        "id": "DH5lB8Sn6tm7",
        "outputId": "83205b0d-2422-4da2-ea72-74654fa6bcd8"
      },
      "source": [
        "Points = {A: 'A', B: 'B', C: 'C', D: 'D', F: 'F'}\n",
        "three_points = {}\n",
        "for P1 in Points.keys():\n",
        " for P2 in Points.keys() - {P1}:\n",
        "  for P3 in Points.keys() - {P1} - {P2}:\n",
        "    P_name1, P_name2, P_name3 = [Points[P] for P in (P1, P2, P3)]\n",
        "    if P_name1 < P_name2 and P_name2 < P_name3:\n",
        "      if Point3D.are_collinear(P1, P2, P3):\n",
        "        three_points[(P_name1, P_name2, P_name3)] = Line(P1, P2)\n",
        "three_points \n"
      ],
      "execution_count": null,
      "outputs": [
        {
          "output_type": "execute_result",
          "data": {
            "text/plain": [
              "{('A', 'B', 'F'): Line3D(Point3D(3, -2, 3), Point3D(-2, 3, 1))}"
            ]
          },
          "metadata": {
            "tags": []
          },
          "execution_count": 27
        }
      ]
    },
    {
      "cell_type": "code",
      "metadata": {
        "colab": {
          "base_uri": "https://localhost:8080/"
        },
        "id": "C7ge15BF89Mv",
        "outputId": "d13e6729-2fc1-410c-928a-39f60af1e6a5"
      },
      "source": [
        "Points_dict = {A: 'A', B: 'B', C: 'C', D: 'D', F: 'F'}\n",
        "Points = tuple(Points_dict.keys())\n",
        "num = len(Points)\n",
        "three_points = {}\n",
        "print('Точки на одной прямой')\n",
        "for i in range(num):\n",
        "  P1 = Points[i]\n",
        "  for j in range(i + 1, num):\n",
        "    P2 = Points[j]\n",
        "    for k in range(j + 1, num):\n",
        "      P3 = Points[k]\n",
        "      P_name1, P_name2, P_name3 = [Points_dict[P] for P in (P1, P2, P3)]\n",
        "      if P_name1 < P_name2 and P_name2 < P_name3:\n",
        "        if Point3D.are_collinear(P1, P2, P3):\n",
        "          three_points[(P_name1, P_name2, P_name3)] = Line(P1, P2)\n",
        "three_points "
      ],
      "execution_count": null,
      "outputs": [
        {
          "output_type": "stream",
          "text": [
            "Точки на одной прямой\n"
          ],
          "name": "stdout"
        },
        {
          "output_type": "execute_result",
          "data": {
            "text/plain": [
              "{('A', 'B', 'F'): Line3D(Point3D(3, -2, 3), Point3D(-2, 3, 1))}"
            ]
          },
          "metadata": {
            "tags": []
          },
          "execution_count": 30
        }
      ]
    },
    {
      "cell_type": "markdown",
      "metadata": {
        "id": "QX8Jdzt10XR-"
      },
      "source": [
        "### Индивидуальное задание\n",
        "\n",
        "Даны точки.\n",
        "\n",
        "Составить список lines_list, состоящий из  tuple из троек прямых, каждая из которых проходит через две (или более) заданные точки, причем все прямые пересекаются в одной точке. Совпадающие прямые не учитывать. "
      ]
    },
    {
      "cell_type": "markdown",
      "metadata": {
        "id": "KhuhoXJG9wnn"
      },
      "source": [
        "Вариант N104\n",
        "Точки: F(27/2, 11/2, 13/2), H(11, 5, 6), K(9, 1, 5), M(16, 6, 7) и W(18, 10, 8)."
      ]
    },
    {
      "cell_type": "code",
      "metadata": {
        "id": "Xxr0fjtO0XR_"
      },
      "source": [
        "F=Point(27/2,11/2,13/2)\n",
        "H=Point(11,5,6)\n",
        "K=Point(9,1,5)\n",
        "M=Point(16,6,7)\n",
        "W=Point(18,10,8)\n",
        "Points_dict = {F: 'F', H: 'H', K: 'K', M: 'M', W: 'W'}\n",
        "Points = tuple(Points_dict.keys())\n",
        "num = len(Points)\n",
        "three_points = {}\n",
        "print('Точки на одной прямой')\n",
        "for i in range(num):\n",
        "  P1 = Points[i]\n",
        "  for j in range(i + 1, num):\n",
        "    P2 = Points[j]\n",
        "    for k in range(j + 1, num):\n",
        "      P3 = Points[k]\n",
        "      P_name1, P_name2, P_name3 = [Points_dict[P] for P in (P1, P2, P3)]\n",
        "      if P_name1 < P_name2 and P_name2 < P_name3:\n",
        "        if Point3D.are_collinear(P1, P2, P3):\n",
        "          three_points[(P_name1, P_name2, P_name3)] = Line(P1, P2)\n",
        "three_points"
      ],
      "execution_count": null,
      "outputs": []
    }
  ]
}