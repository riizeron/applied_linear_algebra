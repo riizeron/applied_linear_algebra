{
  "nbformat": 4,
  "nbformat_minor": 0,
  "metadata": {
    "kernelspec": {
      "display_name": "Python 3",
      "language": "python",
      "name": "python3"
    },
    "colab": {
      "name": "Davydov_Applied_Alg_2022_sem_9_matr_norm_task.ipynb",
      "provenance": [],
      "collapsed_sections": []
    }
  },
  "cells": [
    {
      "cell_type": "markdown",
      "metadata": {
        "id": "fis1w-TTVnuw"
      },
      "source": [
        "# Занятие 9 \n",
        "# Прикладная алгебра и численные методы\n",
        "## Матричные нормы. "
      ]
    },
    {
      "cell_type": "code",
      "metadata": {
        "id": "mGFcxneQVnu6"
      },
      "source": [
        "import numpy as np\n",
        "import sympy\n",
        "import scipy.linalg\n",
        "import numpy.linalg\n",
        "import pandas as pd\n",
        "import matplotlib.pyplot as plt\n",
        "from google.colab import files"
      ],
      "execution_count": null,
      "outputs": []
    },
    {
      "cell_type": "markdown",
      "metadata": {
        "id": "focs6r2D_dit"
      },
      "source": [
        "## Подчиненные (операторные) матричные нормы.\n",
        "\n",
        "https://numpy.org/doc/stable/reference/generated/numpy.linalg.norm.html\n",
        "\n",
        "numpy.linalg.norm(x, ord=None, axis=None, keepdims=False)\n",
        "\n",
        "https://docs.scipy.org/doc/scipy/reference/generated/scipy.linalg.norm.html\n",
        "\n",
        "scipy.linalg.norm(a, ord=None, axis=None, keepdims=False, check_finite=True)\n",
        "\n",
        "если check_finite=True, проверяется, все ли элементы матрицы конечны  \n",
        "\n",
        "\n",
        "#### Возможные значения параметра ord \n",
        "одинаково в numpy и scipy\n",
        "$$\n",
        "\\begin{matrix}\n",
        "ord &\tnorm\\ for\\ matrices\\\\\n",
        "None &\t\tFrobenius\\ norm\\\\\n",
        "‘fro’\t &\tFrobenius\\ norm\\\\\n",
        "‘nuc’ &\t\tnuclear\\ norm\\\\\n",
        "inf &\t\tmax(sum(abs(x),\\ axis=1))\\\\\n",
        "-inf &\t\tmin(sum(abs(x),\\ axis=1))\\\\\n",
        "0\t &\t–\\\\\n",
        "1\t &\tmax(sum(abs(x),\\ axis=0))\\\\\n",
        "-1 &\t\tmin(sum(abs(x),\\ axis=0))\\\\\n",
        "2\t &\t2-norm\\ (largest\\ singular\\ value)\\\\\n",
        "-2 &\t\tsmallest\\ singular\\ value\\\\\n",
        "other &\t\t–\n",
        "\\end{matrix}\n",
        "$$\n",
        "\n",
        "\n",
        "Матричная норма \n",
        "$ \\|A\\|_{1}=\\max \\limits _{1\\leq j\\leq n}\\sum _{i=1}^{m}|a_{ij}|$, подчинённая векторной норме$ \\|x\\|_{1}=\\sum _{i=1}^{n}|x_{i}|$.\n",
        "\n",
        "Матричная норма $\\|A\\|_{\\infty }=\\max \\limits _{1\\leq i\\leq m}\\sum _{j=1}^{n}|a_{ij}|$, подчинённая векторной норме $\\|x\\|_{\\infty }=\\max \\limits _{1\\leq i\\leq n}|x_{i}|$.\n",
        "\n",
        "Спектральная норма $\\|A\\|_{2}=\\sup \\limits _{\\|x\\|_{2}=1}\\|Ax\\|_{2}=\\sup \\limits _{(x,x)=1}{\\sqrt {(Ax,Ax)}}={\\sqrt {\\lambda _{max}(A^{*}A)}}$, подчиненная векторной норме $\\|x\\|_{2}={\\sqrt {\\sum _{i=1}^{n}|x_{i}|^{2}}}$.\n",
        "\n",
        "Норма Фробениуса $ \\|A\\|_{F} = \\sqrt{\\sum _{i, j}|a_{ij}|^2} = {\\rm tr}(A^*A) = \\sqrt{\\sum _{i=1}^{n}\\sigma_{i}^2}$\n",
        "\n",
        "Ядерная норма  $ \\|A\\|_{nuc} = \\sum _{i=1}^{n}\\sigma_{i}$\n",
        "\n",
        "https://docs.sympy.org/latest/modules/matrices/matrices.html#sympy.matrices.matrices.MatrixBase.norm\n",
        "\n",
        "В sympy реализованы нормы с такими же значениями ord, как в scipy и numpy:\n",
        "\n",
        "norm(ord=None)\n",
        "\n",
        "это метод в классе матриц.\n",
        "\n",
        "## Задание 1.\n",
        "Вычислить матричные нормы $||M||_1$, $||M||_2$, $||M||_\\infty$ и $||M||_F$  для матрицы из файла sem10task1.xlsx. \n",
        "\n",
        "Использовать scipy, numpy для всех норм, sympy для $||M||_1$ и $||M||_\\infty$.\n"
      ]
    },
    {
      "cell_type": "code",
      "metadata": {
        "colab": {
          "resources": {
            "http://localhost:8080/nbextensions/google.colab/files.js": {
              "data": "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",
              "ok": true,
              "headers": [
                [
                  "content-type",
                  "application/javascript"
                ]
              ],
              "status": 200,
              "status_text": ""
            }
          },
          "base_uri": "https://localhost:8080/",
          "height": 90
        },
        "id": "722533YfazJD",
        "outputId": "40cc8d15-3cac-47f9-cd9f-ac4619c77a3e"
      },
      "source": [
        "uploaded = files.upload()\n",
        "\n",
        "for fn in uploaded.keys():\n",
        "\n",
        "  print('User uploaded file \"{name}\" with length {length} bytes'.format(name=fn, length=len(uploaded[fn])))"
      ],
      "execution_count": null,
      "outputs": [
        {
          "output_type": "display_data",
          "data": {
            "text/plain": [
              "<IPython.core.display.HTML object>"
            ],
            "text/html": [
              "\n",
              "     <input type=\"file\" id=\"files-1766bd54-2f50-4b4c-9c08-f7cd9d093e80\" name=\"files[]\" multiple disabled\n",
              "        style=\"border:none\" />\n",
              "     <output id=\"result-1766bd54-2f50-4b4c-9c08-f7cd9d093e80\">\n",
              "      Upload widget is only available when the cell has been executed in the\n",
              "      current browser session. Please rerun this cell to enable.\n",
              "      </output>\n",
              "      <script src=\"/nbextensions/google.colab/files.js\"></script> "
            ]
          },
          "metadata": {}
        },
        {
          "output_type": "stream",
          "name": "stdout",
          "text": [
            "Saving sem9task1.xlsx to sem9task1 (1).xlsx\n",
            "User uploaded file \"sem9task1.xlsx\" with length 16075 bytes\n"
          ]
        }
      ]
    },
    {
      "cell_type": "code",
      "source": [
        "def calcNorms(A, norms, package = \"sympy\"):\n",
        "  if (package == \"sympy\"):\n",
        "    A = sympy.Matrix(A)\n",
        "    res = [f'||A||{item} = {round(A.norm(ord=item), 3)}' for item in norms]\n",
        "  elif (package == \"numpy\"):\n",
        "    res = [f'||A||{item} = {round(np.linalg.norm(A, ord=item), 3)}' for item in norms]\n",
        "  elif (package == \"scipy\"):\n",
        "    res = [f'||A||{item} = {round(scipy.linalg.norm(A, ord=item), 3)}' for item in norms]\n",
        "\n",
        "  return res"
      ],
      "metadata": {
        "id": "vrQVD47x7Yn8"
      },
      "execution_count": null,
      "outputs": []
    },
    {
      "cell_type": "code",
      "metadata": {
        "id": "4m_x0VG1G_nk",
        "colab": {
          "base_uri": "https://localhost:8080/"
        },
        "outputId": "17e3612f-c5a0-4005-8c8d-6dfcd0c876dd"
      },
      "source": [
        "A = pd.read_excel(fn, index_col=None, header=None).values \n",
        "\n",
        "res = calcNorms(A, (1, 2, np.inf, 'fro'), \"numpy\")\n",
        "print('numpy: ',res)\n",
        "\n",
        "res = calcNorms(A, (1, 2, np.inf, 'fro'), \"scipy\")\n",
        "print('scipy: ', res)\n",
        "\n",
        "res = calcNorms(A, (1, sympy.oo))\n",
        "print('sympy: ', res)"
      ],
      "execution_count": null,
      "outputs": [
        {
          "output_type": "stream",
          "name": "stdout",
          "text": [
            "numpy:  ['||A||1 = 91.0', '||A||2 = 38.77', '||A||inf = 99.0', '||A||fro = 87.057']\n",
            "scipy:  ['||A||1 = 91.0', '||A||2 = 38.77', '||A||inf = 99.0', '||A||fro = 87.057']\n",
            "sympy:  ['||A||1 = 91', '||A||oo = 99']\n"
          ]
        }
      ]
    },
    {
      "cell_type": "markdown",
      "metadata": {
        "id": "o2U0tG78BYjg"
      },
      "source": [
        "## Спектр матрицы - множество ее собственных значений.\n",
        "https://numpy.org/doc/stable/reference/generated/numpy.linalg.eigvals.html\n",
        "\n",
        "numpy.linalg.eigvals(a)\n",
        "\n",
        "https://docs.scipy.org/doc/scipy/reference/generated/scipy.linalg.eigvals.html\n",
        "\n",
        "scipy.linalg.eigvals(a, b=None, overwrite_a=False, check_finite=True, homogeneous_eigvals=False)\n",
        "## Задание 2\n",
        "Пусть $A_2$ - матрица, состоящая из первых десяти строк и первых десяти столбцов матрицы Задания 1.\n",
        "С помощью разложения SVD (scipy.linalg.svdvals) получить сингулярные числа матрицы $A_2$. Изобразить на комплексной плоскости сингулярные числа, спектр матрицы $A_2$ и окружность с радиусом, равным спектральному радиусу матрицы $A_2$.\n",
        "\n",
        "Вывести на экран спектр, спектральный радиус и сингулярные числа.\n"
      ]
    },
    {
      "cell_type": "code",
      "metadata": {
        "id": "fmf9L3HhHAkr",
        "colab": {
          "base_uri": "https://localhost:8080/"
        },
        "outputId": "8488f61a-6653-4f81-8d71-82882e50b2da"
      },
      "source": [
        "A2 = pd.read_excel(fn, index_col=None, header=None).values \n",
        "A2 = A2[:10, :10]\n",
        "\n",
        "A2_svdvals = scipy.linalg.svdvals(A2)\n",
        "A2_spectr = numpy.linalg.eigvals(A2)\n",
        "\n",
        "print(\"svdvals:\", *[(round(item.real, 3), round(item.imag, 3)) for item in A2_svdvals], sep='\\n')\n",
        "print(\"eigvals:\", *[(round(item.real, 3), round(item.imag, 3)) for item in A2_spectr], sep='\\n')"
      ],
      "execution_count": null,
      "outputs": [
        {
          "output_type": "stream",
          "name": "stdout",
          "text": [
            "svdvals:\n",
            "(31.306, 0.0)\n",
            "(25.257, 0.0)\n",
            "(23.787, 0.0)\n",
            "(21.113, 0.0)\n",
            "(19.879, 0.0)\n",
            "(17.304, 0.0)\n",
            "(12.815, 0.0)\n",
            "(7.788, 0.0)\n",
            "(5.992, 0.0)\n",
            "(1.75, 0.0)\n",
            "eigvals:\n",
            "(-13.36, 10.768)\n",
            "(-13.36, -10.768)\n",
            "(-7.557, 9.391)\n",
            "(-7.557, -9.391)\n",
            "(-10.753, 0.0)\n",
            "(13.537, 11.046)\n",
            "(13.537, -11.046)\n",
            "(13.577, 2.386)\n",
            "(13.577, -2.386)\n",
            "(5.358, 0.0)\n"
          ]
        }
      ]
    },
    {
      "cell_type": "code",
      "source": [
        "radiusA2 = abs(A2_spectr).max()\n",
        "print(\"radius: \", radiusA2)"
      ],
      "metadata": {
        "colab": {
          "base_uri": "https://localhost:8080/"
        },
        "id": "x3dTln5X_01G",
        "outputId": "378e092c-52de-4879-eada-1ae311b93368"
      },
      "execution_count": null,
      "outputs": [
        {
          "output_type": "stream",
          "name": "stdout",
          "text": [
            "radius:  17.47135465227096\n"
          ]
        }
      ]
    },
    {
      "cell_type": "code",
      "source": [
        "ax = plt.gca()  \n",
        "radius2 = radiusA2 ** 2\n",
        "X = np.linspace(-radiusA2, radiusA2, 256)\n",
        "Y = np.sqrt(radius2 - X ** 2)\n",
        "ax.axis('equal')\n",
        "ax.plot(A2_svdvals, np.zeros(len(A2_svdvals)), 'ro', np.real(A2_spectr), np.imag(A2_spectr), 'go', X, Y, 'm--', X, -Y, 'm--')\n",
        "ax.set_xlabel('Re')\n",
        "ax.set_ylabel('Im')\n",
        "print(f'Сингулярные числа {[round(item, 1) for item in A2_svdvals]}')"
      ],
      "metadata": {
        "colab": {
          "base_uri": "https://localhost:8080/",
          "height": 296
        },
        "id": "8UwJbHpuBcD3",
        "outputId": "d4eb45d7-b73f-4c55-bbfe-9af8df83cdd7"
      },
      "execution_count": null,
      "outputs": [
        {
          "output_type": "stream",
          "name": "stdout",
          "text": [
            "Сингулярные числа [31.3, 25.3, 23.8, 21.1, 19.9, 17.3, 12.8, 7.8, 6.0, 1.8]\n"
          ]
        },
        {
          "output_type": "display_data",
          "data": {
            "text/plain": [
              "<Figure size 432x288 with 1 Axes>"
            ],
            "image/png": "[encoded data removed]"
          },
          "metadata": {
            "needs_background": "light"
          }
        }
      ]
    },
    {
      "cell_type": "markdown",
      "metadata": {
        "id": "zDPcyRk8dK9F"
      },
      "source": [
        "## Задание 3\n",
        "Пусть $A_3$ - матрица, составленная из четных строк и нечетных столбцов матрицы $A_1$ (считаем, что нумерация с единицы!). \n",
        "\n",
        "Проверить утверждение $||A||_F = \\sqrt{\\sigma_1^2 + \\sigma_1^2 + ... + \\sigma_1^n}$ на матрицах $A_1$, $A_2$ и $A_3$. \n",
        "\n",
        "Использовать цикл, не копировать код!\n"
      ]
    },
    {
      "cell_type": "code",
      "metadata": {
        "id": "DiY0A1E2HBvj",
        "colab": {
          "base_uri": "https://localhost:8080/"
        },
        "outputId": "e463f10c-42d1-4b2c-c1ae-7d851c8a7425"
      },
      "source": [
        "    A3 = A[1::2, ::2]\n",
        "    \n",
        "    print('A1: ', np.allclose(np.linalg.norm(A, ord='fro'), np.sqrt(sum([i**2 for i in scipy.linalg.svdvals(A)]))))\n",
        "    print('A2: ', np.allclose(np.linalg.norm(A2, ord='fro'), np.sqrt(sum([i**2 for i in scipy.linalg.svdvals(A2)]))))\n",
        "    print('A3: ', np.allclose(np.linalg.norm(A3, ord='fro'), np.sqrt(sum([i**2 for i in scipy.linalg.svdvals(A3)]))))\n"
      ],
      "execution_count": null,
      "outputs": [
        {
          "output_type": "stream",
          "name": "stdout",
          "text": [
            "A1:  True\n",
            "A2:  True\n",
            "A3:  True\n"
          ]
        }
      ]
    },
    {
      "cell_type": "markdown",
      "source": [
        "## Повторение и подготовка к контрольной.\n",
        "## Задание 4\n",
        "Найти псевдообратную матрицу к матрице $A_{5\\times 8}$ из файла A58.xlsx \n",
        "\n",
        "с помощью pinv из numpy и scipy"
      ],
      "metadata": {
        "id": "w65qXJiNWb71"
      }
    },
    {
      "cell_type": "code",
      "metadata": {
        "id": "jUxnBOK7HC9D"
      },
      "source": [
        ""
      ],
      "execution_count": null,
      "outputs": []
    },
    {
      "cell_type": "markdown",
      "source": [
        "## Задание 5 линейная регрессия\n",
        "Считать данные из файла .xlsx.\n",
        "\n",
        "Найти коэффициенты $k$ и $b$ линейной регрессии $Q = a_1t+a_2u+a_3v$, если $t$, $u$, $v$ - второй, третий и четвертый столбцы, $Q$ - первый столбец."
      ],
      "metadata": {
        "id": "ih1s5K0gXWXN"
      }
    },
    {
      "cell_type": "code",
      "source": [
        ""
      ],
      "metadata": {
        "id": "fRFc1TnQZTIA"
      },
      "execution_count": null,
      "outputs": []
    }
  ]
}