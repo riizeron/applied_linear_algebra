{
  "cells": [
    {
      "cell_type": "markdown",
      "metadata": {
        "id": "inD1lhKE6hBp"
      },
      "source": [
        "# Занятие 1\n",
        "# Прикладная алгебра и численные методы\n",
        "## Псевдообратная матрица, скелетное разложение\n",
        "numpy:\n",
        "https://numpy.org/doc/stable/reference/routines.linalg.html"
      ]
    },
    {
      "cell_type": "code",
      "execution_count": null,
      "metadata": {
        "id": "4htFBK3t6hBv"
      },
      "outputs": [],
      "source": [
        "import numpy as np\n",
        "import scipy.linalg\n",
        "import sympy"
      ]
    },
    {
      "cell_type": "markdown",
      "metadata": {
        "id": "C0raFBiR6hBx"
      },
      "source": [
        "#### Задание 1\n",
        "$$\n",
        "A = \\left(\n",
        "\\begin{matrix}\n",
        "1 & 2 & -5 & 9 & 1\\\\\n",
        "3 & 1 & 2 & -5 & 0\n",
        "\\end{matrix}\n",
        "\\right)\n",
        "$$\n",
        "Найти псевдообратную матрицу к матрице A средствами numpy, scipy и sympy."
      ]
    },
    {
      "cell_type": "code",
      "execution_count": null,
      "metadata": {
        "id": "jMgNk48p6hBy",
        "colab": {
          "base_uri": "https://localhost:8080/",
          "height": 121
        },
        "outputId": "670cda73-affa-45e8-b95b-0dbd59c8d1ca"
      },
      "outputs": [
        {
          "output_type": "display_data",
          "data": {
            "text/plain": [
              "[[1, 2, -5, 9, 1], [3, 1, 2, -5, 0]]"
            ]
          },
          "metadata": {}
        },
        {
          "output_type": "display_data",
          "data": {
            "text/plain": [
              "array([[ 0.10117773,  0.20663812],\n",
              "       [ 0.06852248,  0.11349036],\n",
              "       [-0.05085653, -0.01391863],\n",
              "       [ 0.05406852, -0.05888651],\n",
              "       [ 0.02087794,  0.0267666 ]])"
            ]
          },
          "metadata": {}
        }
      ],
      "source": [
        "A = [[1, 2, -5, 9, 1], [3, 1, 2, -5, 0]]\n",
        "A_pinv = np.linalg.pinv(A)\n",
        "display(A, A_pinv)"
      ]
    },
    {
      "cell_type": "code",
      "source": [
        "A_pinv = scipy.linalg.pinv(A)\n",
        "display(A, A_pinv)"
      ],
      "metadata": {
        "colab": {
          "base_uri": "https://localhost:8080/",
          "height": 121
        },
        "id": "2ZW3AGH9dAG9",
        "outputId": "b0698e5f-ece4-4aac-813a-989590e00a3b"
      },
      "execution_count": null,
      "outputs": [
        {
          "output_type": "display_data",
          "data": {
            "text/plain": [
              "[[1, 2, -5, 9, 1], [3, 1, 2, -5, 0]]"
            ]
          },
          "metadata": {}
        },
        {
          "output_type": "display_data",
          "data": {
            "text/plain": [
              "array([[ 0.10117773,  0.20663812],\n",
              "       [ 0.06852248,  0.11349036],\n",
              "       [-0.05085653, -0.01391863],\n",
              "       [ 0.05406852, -0.05888651],\n",
              "       [ 0.02087794,  0.0267666 ]])"
            ]
          },
          "metadata": {}
        }
      ]
    },
    {
      "cell_type": "code",
      "source": [
        "As = sympy.Matrix(A)\n",
        "As_pinv = As.pinv()\n",
        "display(As, As_pinv)"
      ],
      "metadata": {
        "colab": {
          "base_uri": "https://localhost:8080/",
          "height": 160
        },
        "id": "jYaaTxlRdPQT",
        "outputId": "a7834bbd-bd02-403f-9f38-b39a18f659d3"
      },
      "execution_count": null,
      "outputs": [
        {
          "output_type": "display_data",
          "data": {
            "text/latex": "$\\displaystyle \\left[\\begin{matrix}1 & 2 & -5 & 9 & 1\\\\3 & 1 & 2 & -5 & 0\\end{matrix}\\right]$",
            "text/plain": [
              "Matrix([\n",
              "[1, 2, -5,  9, 1],\n",
              "[3, 1,  2, -5, 0]])"
            ]
          },
          "metadata": {}
        },
        {
          "output_type": "display_data",
          "data": {
            "text/latex": "$\\displaystyle \\left[\\begin{matrix}\\frac{189}{1868} & \\frac{193}{934}\\\\\\frac{32}{467} & \\frac{53}{467}\\\\- \\frac{95}{1868} & - \\frac{13}{934}\\\\\\frac{101}{1868} & - \\frac{55}{934}\\\\\\frac{39}{1868} & \\frac{25}{934}\\end{matrix}\\right]$",
            "text/plain": [
              "Matrix([\n",
              "[189/1868, 193/934],\n",
              "[  32/467,  53/467],\n",
              "[-95/1868, -13/934],\n",
              "[101/1868, -55/934],\n",
              "[ 39/1868,  25/934]])"
            ]
          },
          "metadata": {}
        }
      ]
    },
    {
      "cell_type": "markdown",
      "metadata": {
        "id": "BBdST-rX6hBz"
      },
      "source": [
        "#### Задание 2\n",
        "Построить скелетное разложение для матрицы \n",
        "$$\n",
        "\\left(\n",
        "\\begin{matrix}\n",
        "1 & 2 & -5 & 9 & 1\\\\\n",
        "4 & 3 & -3 & 4 & 1\\\\\n",
        "5 & 5 & -8 & 13 & 2\\\\\n",
        "3 & 1 & 2 & -5 & 0\n",
        "\\end{matrix}\n",
        "\\right)\n",
        "$$\n",
        "на основе полученного разложения составить псевдообратную матрицу, сравнить с результатом pinv из numpy"
      ]
    },
    {
      "cell_type": "code",
      "execution_count": null,
      "metadata": {
        "id": "KB4mWiVl6hB0",
        "colab": {
          "base_uri": "https://localhost:8080/",
          "height": 203
        },
        "outputId": "3635ac21-a754-4348-b08e-fe339afb121d"
      },
      "outputs": [
        {
          "output_type": "display_data",
          "data": {
            "text/plain": [
              "(Matrix([\n",
              " [1, 0,   9/5, -19/5, -1/5],\n",
              " [0, 1, -17/5,  32/5,  3/5],\n",
              " [0, 0,     0,     0,    0],\n",
              " [0, 0,     0,     0,    0]]), (0, 1))"
            ]
          },
          "metadata": {}
        },
        {
          "output_type": "display_data",
          "data": {
            "text/latex": "$\\displaystyle \\left[\\begin{matrix}1 & 0 & \\frac{9}{5} & - \\frac{19}{5} & - \\frac{1}{5}\\\\0 & 1 & - \\frac{17}{5} & \\frac{32}{5} & \\frac{3}{5}\\\\0 & 0 & 0 & 0 & 0\\\\0 & 0 & 0 & 0 & 0\\end{matrix}\\right]$",
            "text/plain": [
              "Matrix([\n",
              "[1, 0,   9/5, -19/5, -1/5],\n",
              "[0, 1, -17/5,  32/5,  3/5],\n",
              "[0, 0,     0,     0,    0],\n",
              "[0, 0,     0,     0,    0]])"
            ]
          },
          "metadata": {}
        },
        {
          "output_type": "display_data",
          "data": {
            "text/plain": [
              "(0, 1)"
            ]
          },
          "metadata": {}
        }
      ],
      "source": [
        "A = sympy.Matrix([[1, 2, -5, 9, 1], [4, 3, -3, 4, 1], [5, 5, -8, 13, 2], [3, 1, 2, -5, 0]])\n",
        "A_rref = A.rref()\n",
        "display(A_rref, *A_rref)"
      ]
    },
    {
      "cell_type": "code",
      "source": [
        "cols = A_rref[1]\n",
        "k = len(cols)\n",
        "B = A[:, cols]\n",
        "print(f'k = {k}, B =')\n",
        "display(B)"
      ],
      "metadata": {
        "colab": {
          "base_uri": "https://localhost:8080/",
          "height": 116
        },
        "id": "pBFm99PUc1Ow",
        "outputId": "7618f1d9-b0bd-46e6-d6bc-0f139013be95"
      },
      "execution_count": null,
      "outputs": [
        {
          "output_type": "stream",
          "name": "stdout",
          "text": [
            "k = 2, B =\n"
          ]
        },
        {
          "output_type": "display_data",
          "data": {
            "text/latex": "$\\displaystyle \\left[\\begin{matrix}1 & 2\\\\4 & 3\\\\5 & 5\\\\3 & 1\\end{matrix}\\right]$",
            "text/plain": [
              "Matrix([\n",
              "[1, 2],\n",
              "[4, 3],\n",
              "[5, 5],\n",
              "[3, 1]])"
            ]
          },
          "metadata": {}
        }
      ]
    },
    {
      "cell_type": "code",
      "source": [
        "C = A_rref[0][:k, :]\n",
        "print('C =')\n",
        "display(C)"
      ],
      "metadata": {
        "colab": {
          "base_uri": "https://localhost:8080/",
          "height": 75
        },
        "id": "Y3X9Rx1Nc61c",
        "outputId": "d693001c-d068-49f9-bc0b-ab3c9be0ccd9"
      },
      "execution_count": null,
      "outputs": [
        {
          "output_type": "stream",
          "name": "stdout",
          "text": [
            "C =\n"
          ]
        },
        {
          "output_type": "display_data",
          "data": {
            "text/latex": "$\\displaystyle \\left[\\begin{matrix}1 & 0 & \\frac{9}{5} & - \\frac{19}{5} & - \\frac{1}{5}\\\\0 & 1 & - \\frac{17}{5} & \\frac{32}{5} & \\frac{3}{5}\\end{matrix}\\right]$",
            "text/plain": [
              "Matrix([\n",
              "[1, 0,   9/5, -19/5, -1/5],\n",
              "[0, 1, -17/5,  32/5,  3/5]])"
            ]
          },
          "metadata": {}
        }
      ]
    },
    {
      "cell_type": "code",
      "source": [
        "A_pinv_my = C.T * (C * C.T) ** (-1) * (B.T * B) ** (-1) * B.T\n",
        "display('A =', A, 'B', B, 'C', C, 'A_pinv', A_pinv_my)\n",
        "print(f'Равенство A.pinv() == A_pinv_my {\"не \" * (not (A.pinv() == A_pinv_my))}выполняется')"
      ],
      "metadata": {
        "colab": {
          "base_uri": "https://localhost:8080/",
          "height": 413
        },
        "id": "vjVJ832Qdg_R",
        "outputId": "3b100c08-dbc2-44f1-df21-b36756e76def"
      },
      "execution_count": null,
      "outputs": [
        {
          "output_type": "display_data",
          "data": {
            "application/vnd.google.colaboratory.intrinsic+json": {
              "type": "string"
            },
            "text/plain": [
              "'A ='"
            ]
          },
          "metadata": {}
        },
        {
          "output_type": "display_data",
          "data": {
            "text/latex": "$\\displaystyle \\left[\\begin{matrix}1 & 2 & -5 & 9 & 1\\\\4 & 3 & -3 & 4 & 1\\\\5 & 5 & -8 & 13 & 2\\\\3 & 1 & 2 & -5 & 0\\end{matrix}\\right]$",
            "text/plain": [
              "Matrix([\n",
              "[1, 2, -5,  9, 1],\n",
              "[4, 3, -3,  4, 1],\n",
              "[5, 5, -8, 13, 2],\n",
              "[3, 1,  2, -5, 0]])"
            ]
          },
          "metadata": {}
        },
        {
          "output_type": "display_data",
          "data": {
            "application/vnd.google.colaboratory.intrinsic+json": {
              "type": "string"
            },
            "text/plain": [
              "'B'"
            ]
          },
          "metadata": {}
        },
        {
          "output_type": "display_data",
          "data": {
            "text/latex": "$\\displaystyle \\left[\\begin{matrix}1 & 2\\\\4 & 3\\\\5 & 5\\\\3 & 1\\end{matrix}\\right]$",
            "text/plain": [
              "Matrix([\n",
              "[1, 2],\n",
              "[4, 3],\n",
              "[5, 5],\n",
              "[3, 1]])"
            ]
          },
          "metadata": {}
        },
        {
          "output_type": "display_data",
          "data": {
            "application/vnd.google.colaboratory.intrinsic+json": {
              "type": "string"
            },
            "text/plain": [
              "'C'"
            ]
          },
          "metadata": {}
        },
        {
          "output_type": "display_data",
          "data": {
            "text/latex": "$\\displaystyle \\left[\\begin{matrix}1 & 0 & \\frac{9}{5} & - \\frac{19}{5} & - \\frac{1}{5}\\\\0 & 1 & - \\frac{17}{5} & \\frac{32}{5} & \\frac{3}{5}\\end{matrix}\\right]$",
            "text/plain": [
              "Matrix([\n",
              "[1, 0,   9/5, -19/5, -1/5],\n",
              "[0, 1, -17/5,  32/5,  3/5]])"
            ]
          },
          "metadata": {}
        },
        {
          "output_type": "display_data",
          "data": {
            "application/vnd.google.colaboratory.intrinsic+json": {
              "type": "string"
            },
            "text/plain": [
              "'A_pinv'"
            ]
          },
          "metadata": {}
        },
        {
          "output_type": "display_data",
          "data": {
            "text/latex": "$\\displaystyle \\left[\\begin{matrix}- \\frac{197}{5604} & \\frac{193}{2802} & \\frac{63}{1868} & \\frac{583}{5604}\\\\- \\frac{7}{467} & \\frac{53}{1401} & \\frac{32}{1401} & \\frac{74}{1401}\\\\- \\frac{23}{1868} & - \\frac{13}{2802} & - \\frac{95}{5604} & \\frac{43}{5604}\\\\\\frac{211}{5604} & - \\frac{55}{2802} & \\frac{101}{5604} & - \\frac{107}{1868}\\\\- \\frac{11}{5604} & \\frac{25}{2802} & \\frac{13}{1868} & \\frac{61}{5604}\\end{matrix}\\right]$",
            "text/plain": [
              "Matrix([\n",
              "[-197/5604, 193/2802,  63/1868,  583/5604],\n",
              "[   -7/467,  53/1401,  32/1401,   74/1401],\n",
              "[ -23/1868, -13/2802, -95/5604,   43/5604],\n",
              "[ 211/5604, -55/2802, 101/5604, -107/1868],\n",
              "[ -11/5604,  25/2802,  13/1868,   61/5604]])"
            ]
          },
          "metadata": {}
        },
        {
          "output_type": "stream",
          "name": "stdout",
          "text": [
            "Равенство A.pinv() == A_pinv_my выполняется\n"
          ]
        }
      ]
    },
    {
      "cell_type": "markdown",
      "metadata": {
        "id": "nH-b1XXy6hB0"
      },
      "source": [
        "#### Задание 3\n",
        "Описать функцию, которая находит псевдообратную матрицу для матрицы, состоящей из $n$ блоков \n",
        "$$\n",
        "\\left(\n",
        "\\begin{matrix}\n",
        "1 & 2\\\\\n",
        "4 & 3\n",
        "\\end{matrix}\n",
        "\\right)\n",
        "$$\n",
        "на главной диагонали и $k$ правых столбцов из единиц, остальные элементы нули. Пример такой матрицы:\n",
        "$$\n",
        "\\left(\n",
        "\\begin{matrix}\n",
        "1 & 2 & 0 & 0 & 1\\\\\n",
        "4 & 3 & 0 & 0 & 1\\\\\n",
        "0 & 0 & 1 & 2 & 1\\\\\n",
        "0 & 0 & 4 & 3 & 1\\\\\n",
        "\\end{matrix}\n",
        "\\right)\n",
        "$$"
      ]
    },
    {
      "cell_type": "code",
      "execution_count": null,
      "metadata": {
        "id": "TSKcefh46hB2"
      },
      "outputs": [],
      "source": [
        ""
      ]
    },
    {
      "cell_type": "markdown",
      "metadata": {
        "id": "TCZkA3rg6hB2"
      },
      "source": [
        "#### Задание 4\n",
        "Описать функцию, которая находит  скелетное разложение для матрицы Задания 3."
      ]
    },
    {
      "cell_type": "code",
      "execution_count": null,
      "metadata": {
        "id": "fnHCHnUh6hB3"
      },
      "outputs": [],
      "source": [
        ""
      ]
    },
    {
      "cell_type": "markdown",
      "metadata": {
        "id": "D23TxT5j6hB4"
      },
      "source": [
        "#### Задание 5\n",
        "Описать функцию, которая с помощью скелетного разложения находит псевдообратную матрицу для матрицы, состоящей из списка diag1, diag2, diag3 на главной, следующей за главной и третьей диагоналях, остальные элементы нули. "
      ]
    },
    {
      "cell_type": "code",
      "execution_count": null,
      "metadata": {
        "id": "DGQFORWh6hB4"
      },
      "outputs": [],
      "source": [
        ""
      ]
    },
    {
      "cell_type": "markdown",
      "metadata": {
        "id": "xdbYJDss6hB5"
      },
      "source": [
        "#### Задание 6\n",
        "Составить матрицу 4х5, состоящую из чисел вида $5k - 2$ (array).\n",
        "\n",
        "Присоединить к этой матрице ее копию, у которой элементы удвоены.\n",
        "\n",
        "К полученной матрице присоединить справа столбцы, первый слева из единиц, следующий из двоек и последний из пятерок."
      ]
    },
    {
      "cell_type": "code",
      "execution_count": null,
      "metadata": {
        "id": "RXzq_J9x6hB7"
      },
      "outputs": [],
      "source": [
        ""
      ]
    }
  ],
  "metadata": {
    "kernelspec": {
      "display_name": "Python 3",
      "language": "python",
      "name": "python3"
    },
    "language_info": {
      "codemirror_mode": {
        "name": "ipython",
        "version": 3
      },
      "file_extension": ".py",
      "mimetype": "text/x-python",
      "name": "python",
      "nbconvert_exporter": "python",
      "pygments_lexer": "ipython3",
      "version": "3.7.3"
    },
    "colab": {
      "name": "Davydov_Applied_Alg_task_1_pinv.ipynb",
      "provenance": [],
      "collapsed_sections": []
    }
  },
  "nbformat": 4,
  "nbformat_minor": 0
}