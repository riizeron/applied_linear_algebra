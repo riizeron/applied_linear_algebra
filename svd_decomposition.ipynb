{
  "cells": [
    {
      "cell_type": "markdown",
      "metadata": {
        "id": "8WnIik8cZyQ5"
      },
      "source": [
        "# Занятие 4\n",
        "# Прикладная алгебра и численные методы\n",
        "## Сингулярное разложение (SVD), линейная регрессия\n",
        "https://numpy.org/doc/stable/reference/generated/numpy.linalg.svd.html#numpy.linalg.svd"
      ]
    },
    {
      "cell_type": "code",
      "execution_count": null,
      "metadata": {
        "id": "_fWVV2gSZyRD"
      },
      "outputs": [],
      "source": [
        "import numpy as np\n",
        "import scipy.linalg\n",
        "import sympy\n",
        "import matplotlib.pyplot as plt\n",
        "from copy import deepcopy\n",
        "from sympy import latex\n",
        "import pandas as pd\n",
        "from IPython.display import Math, Pretty\n",
        "from google.colab import files"
      ]
    },
    {
      "cell_type": "markdown",
      "metadata": {
        "id": "E-vpAncOZyRJ"
      },
      "source": [
        "## Сингулярное разложение (SVD)\n",
        "$$\n",
        "A = Q\\Sigma P^*, \\quad A_{m\\times n},\\ Q_{m\\times m}, \\ \\Sigma_{m\\times n}, \\ P_{n\\times n},\n",
        "$$\n",
        "$Q$, $P$ - ортогональные матрицы, $\\Sigma$ - диагональная, на диагонали сингулярные числа.\n",
        "\n",
        "\n",
        "## Задача 1\n",
        "Найти SVD c sympy и numpy\n",
        "$$\n",
        "\\left(\n",
        "\\begin{matrix}\n",
        "1 & 0 & 0 & -2\\\\\n",
        "0 & 1 & 0 & 1\\\\\n",
        "0 & 0 & 3 & 1\n",
        "\\end{matrix}\n",
        "\\right)\n",
        "$$"
      ]
    },
    {
      "cell_type": "code",
      "execution_count": null,
      "metadata": {
        "id": "1jqC2yNxZyRL",
        "colab": {
          "base_uri": "https://localhost:8080/",
          "height": 341
        },
        "outputId": "17248d7c-9224-4b61-bfd8-a65d34553231"
      },
      "outputs": [
        {
          "output_type": "display_data",
          "data": {
            "text/latex": "$$P = \\left[\\begin{matrix}- \\frac{\\sqrt{330}}{165} & - \\frac{\\sqrt{30}}{15} & \\frac{\\sqrt{5}}{5} & \\frac{6 \\sqrt{55}}{55}\\\\\\frac{\\sqrt{330}}{330} & \\frac{\\sqrt{30}}{30} & \\frac{2 \\sqrt{5}}{5} & - \\frac{3 \\sqrt{55}}{55}\\\\\\frac{\\sqrt{330}}{22} & - \\frac{\\sqrt{30}}{10} & 0 & - \\frac{\\sqrt{55}}{55}\\\\\\frac{\\sqrt{330}}{33} & \\frac{2 \\sqrt{30}}{15} & 0 & \\frac{3 \\sqrt{55}}{55}\\end{matrix}\\right]$$",
            "text/plain": [
              "<IPython.core.display.Math object>"
            ]
          },
          "metadata": {}
        },
        {
          "output_type": "display_data",
          "data": {
            "text/latex": "$$Q = \\left[\\begin{matrix}- \\frac{\\sqrt{30}}{15} & - \\frac{\\sqrt{6}}{3} & \\frac{\\sqrt{5}}{5}\\\\\\frac{\\sqrt{30}}{30} & \\frac{\\sqrt{6}}{6} & \\frac{2 \\sqrt{5}}{5}\\\\\\frac{\\sqrt{30}}{6} & - \\frac{\\sqrt{6}}{6} & 0\\end{matrix}\\right]$$",
            "text/plain": [
              "<IPython.core.display.Math object>"
            ]
          },
          "metadata": {}
        },
        {
          "output_type": "display_data",
          "data": {
            "text/latex": "$$Sig = \\left[\\begin{matrix}\\sqrt{11} & 0 & 0 & 0\\\\0 & \\sqrt{5} & 0 & 0\\\\0 & 0 & 1 & 0\\end{matrix}\\right]$$",
            "text/plain": [
              "<IPython.core.display.Math object>"
            ]
          },
          "metadata": {}
        },
        {
          "output_type": "display_data",
          "data": {
            "text/latex": "$$Q = \\left[\\begin{matrix}- \\frac{\\sqrt{30}}{15} & - \\frac{\\sqrt{6}}{3} & \\frac{\\sqrt{5}}{5}\\\\\\frac{\\sqrt{30}}{30} & \\frac{\\sqrt{6}}{6} & \\frac{2 \\sqrt{5}}{5}\\\\\\frac{\\sqrt{30}}{6} & - \\frac{\\sqrt{6}}{6} & 0\\end{matrix}\\right], Sig = \\left[\\begin{matrix}\\sqrt{11} & 0 & 0 & 0\\\\0 & \\sqrt{5} & 0 & 0\\\\0 & 0 & 1 & 0\\end{matrix}\\right], P = \\left[\\begin{matrix}- \\frac{\\sqrt{330}}{165} & - \\frac{\\sqrt{30}}{15} & \\frac{\\sqrt{5}}{5} & \\frac{6 \\sqrt{55}}{55}\\\\\\frac{\\sqrt{330}}{330} & \\frac{\\sqrt{30}}{30} & \\frac{2 \\sqrt{5}}{5} & - \\frac{3 \\sqrt{55}}{55}\\\\\\frac{\\sqrt{330}}{22} & - \\frac{\\sqrt{30}}{10} & 0 & - \\frac{\\sqrt{55}}{55}\\\\\\frac{\\sqrt{330}}{33} & \\frac{2 \\sqrt{30}}{15} & 0 & \\frac{3 \\sqrt{55}}{55}\\end{matrix}\\right], Q  Sig  P^T = \\left[\\begin{matrix}1 & 0 & 0 & -2\\\\0 & 1 & 0 & 1\\\\0 & 0 & 3 & 1\\end{matrix}\\right]$$",
            "text/plain": [
              "<IPython.core.display.Math object>"
            ]
          },
          "metadata": {}
        }
      ],
      "source": [
        "A = sympy.Matrix([[1, 0, 0, -2], [0, 1, 0, 1], [0, 0, 3, 1]])\n",
        "A_star_A = A.T * A\n",
        "\n",
        "A_star_A_sympy_ev = sympy.Matrix(A_star_A).eigenvects()\n",
        "\n",
        "A_star_A_sympy_ev_sorted = sorted([(item[0], item[1], [elem.normalized() for elem in item[2]]) for item in A_star_A_sympy_ev], key = lambda item : item[0], reverse = True)\n",
        "ev_norm = [elem[2][0] for elem in A_star_A_sympy_ev_sorted]\n",
        "eig_nums = [elem[0] for elem in A_star_A_sympy_ev_sorted]\n",
        "ev_norm_ort = [item for item in sympy.matrices.dense.GramSchmidt(ev_norm)]\n",
        "ev_norm_ort_nonzero = [elem for i, elem in enumerate(ev_norm_ort) if A_star_A_sympy_ev_sorted[i][0] != 0]\n",
        "P = sympy.Matrix([elem[:] for elem in(ev_norm_ort)]).T\n",
        "display(Math(f'P = {latex(P)}'))\n",
        "\n",
        "sigma = [sympy.sqrt(item) for item in eig_nums if item > 0]\n",
        "\n",
        "q_list = [(A * ei / sigma[i])[:] for i, ei in enumerate(ev_norm_ort_nonzero)]\n",
        "Q = sympy.Matrix(q_list).T\n",
        "display(Math(f'Q = {latex(Q)}'))\n",
        "\n",
        "sig_list = []\n",
        "col_nums = A.shape[1]\n",
        "for i, sig in enumerate(sigma):\n",
        "  row_line = [0 for k in range(col_nums)]\n",
        "  row_line[i] = sig\n",
        "  sig_list.append(row_line)\n",
        "#Sig = sympy.Matrix([[row_line lambda row_line[i] : sig for i, sig in enumerate(sigma)]])\n",
        "Sig = sympy.Matrix(sig_list)\n",
        "display(Math(f'Sig = {latex(Sig)}'))\n",
        "\n",
        "display(Math('Q = {}, Sig = {}, P = {}, Q  Sig  P^T = {}'.format(*[latex(item) for item in (Q, Sig, P, sympy.simplify(Q * Sig * P.T))])))"
      ]
    },
    {
      "cell_type": "code",
      "source": [
        ""
      ],
      "metadata": {
        "id": "S2wrFm3LiOR7"
      },
      "execution_count": null,
      "outputs": []
    },
    {
      "cell_type": "markdown",
      "metadata": {
        "id": "0tljda2BZyRL"
      },
      "source": [
        "## Построение псевдообратной матрицы при помощи SVD\n",
        "$$\n",
        "A^+ = P\\Sigma^+Q^*,\\quad \n",
        "\\Sigma^+ =\n",
        "\\left(\n",
        "\\begin{matrix}\n",
        "\\sigma_1^{-1} & ... & ... & ... & ... & 0\\\\\n",
        "0 & \\sigma_1^{-1} & ... & ... & ... & 0\\\\\n",
        "0 & ... & ... & ... & ... & 0\\\\\n",
        "0 & ... & ... & \\sigma_r^{-1}  & ... & 0\\\\\n",
        "0 & ... & ... & ... & ... & 0\\\\\n",
        "\\end{matrix}\n",
        "\\right)\n",
        "$$\n",
        "## Задача 2\n",
        "Построить с помощью найденного SVD псевдообратную матрицу к А из Задачи 1."
      ]
    },
    {
      "cell_type": "code",
      "execution_count": null,
      "metadata": {
        "id": "sbVRccp0ZyRM"
      },
      "outputs": [],
      "source": [
        ""
      ]
    },
    {
      "cell_type": "markdown",
      "metadata": {
        "id": "vDkScobQZyRM"
      },
      "source": [
        "## Задача 3\n",
        "Построить с помощью  SVD из numpy.linalg псевдообратную матрицу к А из Задачи 1. Вывести на экран $P^T$, $\\Sigma$, $Q$, $Q\\Sigma P^T$."
      ]
    },
    {
      "cell_type": "code",
      "execution_count": null,
      "metadata": {
        "id": "1_uMLJgrZyRN"
      },
      "outputs": [],
      "source": [
        ""
      ]
    },
    {
      "cell_type": "markdown",
      "metadata": {
        "id": "CFUtv_FbZyRN"
      },
      "source": [
        "## Линейная регрессия\n",
        "Составим матрицу $A$ столбцы которой образуют значения $X_1$, $X_2$, ... , $X_n$.\n",
        "Также составим матрицу-столбец $Y$ из значений $y$,\n",
        "тогда\n",
        "$$\n",
        "Y = a_1X_1 + a_2X_2 + ... + a_nX_n,\\qquad\n",
        "\\left[\\begin{matrix}a_1\\\\a_2\\\\...\\\\a_n\\end{matrix}\\right] = A^+Y_1\n",
        "$$\n",
        "## Задача 4\n",
        "http://archive.ics.uci.edu/ml/machine-learning-databases/00242/\n",
        "\n",
        "В датасете, записанном в файле xlsx\n",
        "\n",
        "$X_1$\tОтносительная компактность\t\n",
        "$X_2$\tПлощадь\t\n",
        "$X_3$\tПлощадь стены\t\n",
        "$X_4$\tПлощадь потолка\t\n",
        "$X_5$\tОбщая высота\t\n",
        "$X_6$\tОриентация\t\n",
        "$X_7$\tПлощадь остекления\t\n",
        "$X_8$\tРаспределенная площадь остекления\t\n",
        "$y_1$\tНагрузка при обогреве\t\n",
        "$y_2$\tНагрузка при охлаждении\n",
        "\n",
        "Построить линейную модель зависимости нагрузки (при обогреве и при охлаждении)\n",
        "от $X_1$, $X_2$, $X_4$, $X_7$.\n",
        "\n",
        "С помощью псевдообратной матрицы найти коэффициенты линейной модели, вычислить средние отклонения экспериментальных данных от модельных значений."
      ]
    },
    {
      "cell_type": "code",
      "execution_count": null,
      "metadata": {
        "id": "QMldGIyKZyRN"
      },
      "outputs": [],
      "source": [
        "uploaded = files.upload()\n",
        "\n",
        "for fn in uploaded.keys():\n",
        "\n",
        "  print(f'Загружен файл \"{fn}\"')"
      ]
    },
    {
      "cell_type": "code",
      "source": [
        ""
      ],
      "metadata": {
        "id": "zIQocRP_Mwy-"
      },
      "execution_count": null,
      "outputs": []
    }
  ],
  "metadata": {
    "kernelspec": {
      "display_name": "Python 3",
      "language": "python",
      "name": "python3"
    },
    "language_info": {
      "codemirror_mode": {
        "name": "ipython",
        "version": 3
      },
      "file_extension": ".py",
      "mimetype": "text/x-python",
      "name": "python",
      "nbconvert_exporter": "python",
      "pygments_lexer": "ipython3",
      "version": "3.7.3"
    },
    "colab": {
      "name": "Davydov_Applied_Alg_2022_task_3.ipynb",
      "provenance": [],
      "collapsed_sections": []
    }
  },
  "nbformat": 4,
  "nbformat_minor": 0
}