{
  "nbformat": 4,
  "nbformat_minor": 0,
  "metadata": {
    "kernelspec": {
      "display_name": "Python 3",
      "language": "python",
      "name": "python3"
    },
    "colab": {
      "name": "Davydov_Applied_Alg_2022_sem_5_Interpolation_task.ipynb",
      "provenance": [],
      "collapsed_sections": []
    }
  },
  "cells": [
    {
      "cell_type": "markdown",
      "metadata": {
        "id": "fis1w-TTVnuw"
      },
      "source": [
        "# Занятие 5\n",
        "# Прикладная алгебра и численные методы\n",
        "## Интерполяция: полиномы Лагранжа, сплайны и кривые Безье"
      ]
    },
    {
      "cell_type": "code",
      "metadata": {
        "id": "mGFcxneQVnu6"
      },
      "source": [
        "import numpy as np\n",
        "import scipy.linalg\n",
        "import sympy\n",
        "from sympy import S, latex, Eq\n",
        "import matplotlib.pyplot as plt\n",
        "from copy import deepcopy\n",
        "from scipy.interpolate import interp1d, splrep, splev, InterpolatedUnivariateSpline, BPoly, CubicSpline\n",
        "%matplotlib inline"
      ],
      "execution_count": 3,
      "outputs": []
    },
    {
      "cell_type": "code",
      "source": [
        "import sympy\n",
        "import numpy\n",
        "sympy.__version__, numpy.__version__"
      ],
      "metadata": {
        "colab": {
          "base_uri": "https://localhost:8080/"
        },
        "id": "u3o0gYOrhJ06",
        "outputId": "eef246b8-2851-468f-f9de-e88ca0de3c08"
      },
      "execution_count": 176,
      "outputs": [
        {
          "output_type": "execute_result",
          "data": {
            "text/plain": [
              "('1.9', '1.19.0')"
            ]
          },
          "metadata": {},
          "execution_count": 176
        }
      ]
    },
    {
      "cell_type": "code",
      "source": [
        "!python -m pip install sympy --upgrade\n",
        "!python -m pip install -U matplotlib\n",
        "!pip install numpy==1.19.0"
      ],
      "metadata": {
        "colab": {
          "base_uri": "https://localhost:8080/"
        },
        "id": "6SNPxyC0hN7p",
        "outputId": "e9a32bba-2cc0-4607-db75-4f62730b7f3b"
      },
      "execution_count": 177,
      "outputs": [
        {
          "output_type": "stream",
          "name": "stdout",
          "text": [
            "Requirement already satisfied: sympy in /usr/local/lib/python3.7/dist-packages (1.9)\n",
            "Requirement already satisfied: mpmath>=0.19 in /usr/local/lib/python3.7/dist-packages (from sympy) (1.2.1)\n",
            "Requirement already satisfied: matplotlib in /usr/local/lib/python3.7/dist-packages (3.5.1)\n",
            "Requirement already satisfied: numpy>=1.17 in /usr/local/lib/python3.7/dist-packages (from matplotlib) (1.19.0)\n",
            "Requirement already satisfied: fonttools>=4.22.0 in /usr/local/lib/python3.7/dist-packages (from matplotlib) (4.29.1)\n",
            "Requirement already satisfied: packaging>=20.0 in /usr/local/lib/python3.7/dist-packages (from matplotlib) (21.3)\n",
            "Requirement already satisfied: python-dateutil>=2.7 in /usr/local/lib/python3.7/dist-packages (from matplotlib) (2.8.2)\n",
            "Requirement already satisfied: cycler>=0.10 in /usr/local/lib/python3.7/dist-packages (from matplotlib) (0.11.0)\n",
            "Requirement already satisfied: pillow>=6.2.0 in /usr/local/lib/python3.7/dist-packages (from matplotlib) (7.1.2)\n",
            "Requirement already satisfied: pyparsing>=2.2.1 in /usr/local/lib/python3.7/dist-packages (from matplotlib) (3.0.7)\n",
            "Requirement already satisfied: kiwisolver>=1.0.1 in /usr/local/lib/python3.7/dist-packages (from matplotlib) (1.3.2)\n",
            "Requirement already satisfied: six>=1.5 in /usr/local/lib/python3.7/dist-packages (from python-dateutil>=2.7->matplotlib) (1.15.0)\n",
            "Requirement already satisfied: numpy==1.19.0 in /usr/local/lib/python3.7/dist-packages (1.19.0)\n"
          ]
        }
      ]
    },
    {
      "cell_type": "code",
      "source": [
        "import sympy\n",
        "import numpy\n",
        "sympy.__version__, numpy.__version__"
      ],
      "metadata": {
        "colab": {
          "base_uri": "https://localhost:8080/"
        },
        "id": "Yo0KSWFGhR5l",
        "outputId": "4de3320c-af8f-4848-963c-0d35ceb9e5a6"
      },
      "execution_count": 178,
      "outputs": [
        {
          "output_type": "execute_result",
          "data": {
            "text/plain": [
              "('1.9', '1.19.0')"
            ]
          },
          "metadata": {},
          "execution_count": 178
        }
      ]
    },
    {
      "cell_type": "code",
      "metadata": {
        "id": "PAkxl_bYer7c"
      },
      "source": [
        "#sympy.init_printing(use_unicode=False, wrap_line=False, no_global=True)"
      ],
      "execution_count": 179,
      "outputs": []
    },
    {
      "cell_type": "markdown",
      "metadata": {
        "id": "XMPgEBNnVnu8"
      },
      "source": [
        "## Многочлен Лагранжа\n",
        "$$\n",
        "f(x) = L(x) = \\sum_{i=1}^n y_i \n",
        "\\frac{(x - x_0)(x - x_1)...(x - x_{i-1})(x - x_{i+1})...(x - x_n)}{(x_i - x_0)(x_i - x_1)...(x_i - x_{i-1})(x_i - x_{i+1})...(x_i - x_n)}, \n",
        "\\quad y_i = f(x_i), \\quad i = 0, ..., n.\n",
        "$$\n",
        "## Задача 1\n",
        "Приблизить параболой косинус на отрезке от $-\\frac{\\pi}{4}$ до $\\frac{\\pi}{4}$, выбрать промежуточную точку на середине отрезка."
      ]
    },
    {
      "cell_type": "code",
      "metadata": {
        "id": "1sbt5kXjHKnt",
        "colab": {
          "base_uri": "https://localhost:8080/",
          "height": 95
        },
        "outputId": "5e3c6829-46b8-4759-cd68-ef7d7d54883b"
      },
      "source": [
        "x = S('x')\n",
        "X = (-sympy.pi/4, 0, sympy.pi/4)\n",
        "Y = [sympy.cos(elem) for elem in X]\n",
        "L = 0\n",
        "for i in range(3):\n",
        "    Li = Y[i]\n",
        "    for j in range(3):\n",
        "        if i != j:\n",
        "            Li *= (x - X[j]) / (X[i] - X[j])\n",
        "    L += Li\n",
        "display(L, sympy.simplify(sympy.expand(L))) "
      ],
      "execution_count": 180,
      "outputs": [
        {
          "output_type": "display_data",
          "data": {
            "text/latex": "$\\displaystyle \\frac{4 \\sqrt{2} x \\left(x - \\frac{\\pi}{4}\\right)}{\\pi^{2}} + \\frac{4 \\sqrt{2} x \\left(x + \\frac{\\pi}{4}\\right)}{\\pi^{2}} - \\frac{16 \\left(x - \\frac{\\pi}{4}\\right) \\left(x + \\frac{\\pi}{4}\\right)}{\\pi^{2}}$",
            "text/plain": [
              "4*sqrt(2)*x*(x - pi/4)/pi**2 + 4*sqrt(2)*x*(x + pi/4)/pi**2 - 16*(x - pi/4)*(x + pi/4)/pi**2"
            ]
          },
          "metadata": {}
        },
        {
          "output_type": "display_data",
          "data": {
            "text/latex": "$\\displaystyle \\frac{- 16 x^{2} + 8 \\sqrt{2} x^{2} + \\pi^{2}}{\\pi^{2}}$",
            "text/plain": [
              "(-16*x**2 + 8*sqrt(2)*x**2 + pi**2)/pi**2"
            ]
          },
          "metadata": {}
        }
      ]
    },
    {
      "cell_type": "code",
      "source": [
        "grX = np.linspace(-1, 1)\n",
        "grY = [L.subs(x, elem) for elem in grX]\n",
        "plt.plot(grX, grY, label =f\"${sympy.latex(sympy.Eq(S('y'), L))}$\")\n",
        "plt.scatter(X, Y, color = 'red', label = 'data')\n",
        "plt.legend()"
      ],
      "metadata": {
        "colab": {
          "base_uri": "https://localhost:8080/",
          "height": 284
        },
        "id": "hehKMWQeiH6a",
        "outputId": "27d212b1-83d2-46da-e22b-968a8f59c27e"
      },
      "execution_count": 181,
      "outputs": [
        {
          "output_type": "execute_result",
          "data": {
            "text/plain": [
              "<matplotlib.legend.Legend at 0x7fcd9d01db50>"
            ]
          },
          "metadata": {},
          "execution_count": 181
        },
        {
          "output_type": "display_data",
          "data": {
            "image/png": "[encoded data removed]",
            "text/plain": [
              "<Figure size 432x288 with 1 Axes>"
            ]
          },
          "metadata": {
            "needs_background": "light"
          }
        }
      ]
    },
    {
      "cell_type": "markdown",
      "metadata": {
        "id": "xnBC98kbVnu-"
      },
      "source": [
        "## Задача 2 Линейная регрессия\n",
        "Для косинуса построить параболу методом линейной регрессии\n",
        "на отрезке от $-\\frac{\\pi}{4}$ до $\\frac{\\pi}{4}$, выбрать 10 промежуточных точек равномерно распределенных на отрезке. \n",
        "Изобразить на графике точки косинуса и полученную параболу."
      ]
    },
    {
      "cell_type": "code",
      "source": [
        "X2 = [-np.pi/4, 0, np.pi/4]\n",
        "A2 = np.array([[1, item, item ** 2] for item in X2])\n",
        "Y2 = np.array([[np.cos(elem)] for elem in X2])\n",
        "res2 = np.linalg.pinv(A2) @ Y2\n",
        "a2, b2, c2 = [round(item, 2) for item in  res2[:, 0]]\n",
        "display('A', A2,'Y', Y)\n",
        "print('a =', a2, 'b =', b2, 'c =', c2)"
      ],
      "metadata": {
        "colab": {
          "base_uri": "https://localhost:8080/",
          "height": 145
        },
        "id": "pv_Dxuc7kEZl",
        "outputId": "6b237f3c-2206-4e47-8738-4e866866187a"
      },
      "execution_count": 182,
      "outputs": [
        {
          "output_type": "display_data",
          "data": {
            "application/vnd.google.colaboratory.intrinsic+json": {
              "type": "string"
            },
            "text/plain": [
              "'A'"
            ]
          },
          "metadata": {}
        },
        {
          "output_type": "display_data",
          "data": {
            "text/plain": [
              "array([[ 1.        , -0.78539816,  0.61685028],\n",
              "       [ 1.        ,  0.        ,  0.        ],\n",
              "       [ 1.        ,  0.78539816,  0.61685028]])"
            ]
          },
          "metadata": {}
        },
        {
          "output_type": "display_data",
          "data": {
            "application/vnd.google.colaboratory.intrinsic+json": {
              "type": "string"
            },
            "text/plain": [
              "'Y'"
            ]
          },
          "metadata": {}
        },
        {
          "output_type": "display_data",
          "data": {
            "text/plain": [
              "[sqrt(2)/2, 1, sqrt(2)/2]"
            ]
          },
          "metadata": {}
        },
        {
          "output_type": "stream",
          "name": "stdout",
          "text": [
            "a = 1.0 b = -0.0 c = -0.47\n"
          ]
        }
      ]
    },
    {
      "cell_type": "code",
      "source": [
        "from sympy.abc import x, y\n",
        "a, b, c = [num for num in (a2, b2, c2)]\n",
        "X_ls2 = np.linspace(X2[0], X2[-1])\n",
        "plt.plot(X_ls2, a2 + b2 * X_ls2 + c2 * X_ls2 ** 2,\n",
        "         label=latex(Eq(y, a + b*x + c * x ** 2), mode='inline')\n",
        "         )\n",
        "plt.scatter(X2, Y2, color='red', label='data')\n",
        "plt.grid()\n",
        "plt.legend()"
      ],
      "metadata": {
        "colab": {
          "base_uri": "https://localhost:8080/",
          "height": 284
        },
        "id": "U_0ZmcuPmUMk",
        "outputId": "a6683dfd-391f-425b-8216-d5f424d6ea61"
      },
      "execution_count": 183,
      "outputs": [
        {
          "output_type": "execute_result",
          "data": {
            "text/plain": [
              "<matplotlib.legend.Legend at 0x7fcd9d1a5f10>"
            ]
          },
          "metadata": {},
          "execution_count": 183
        },
        {
          "output_type": "display_data",
          "data": {
            "image/png": "[encoded data removed]",
            "text/plain": [
              "<Figure size 432x288 with 1 Axes>"
            ]
          },
          "metadata": {
            "needs_background": "light"
          }
        }
      ]
    },
    {
      "cell_type": "markdown",
      "metadata": {
        "id": "HP-oIIrKVnvE"
      },
      "source": [
        "## Задача 3\n",
        "Построить по определению и с помощью scipy.interpolate.lagrange полином Лагранжа для косинуса \n",
        "на отрезке от $-\\frac{\\pi}{4}$ до $\\frac{\\pi}{4}$, выбрать 3 промежуточных точки равномерно распределенных на отрезке. \n",
        "Изобразить на графике точки косинуса и полиномы Лагранжа."
      ]
    },
    {
      "cell_type": "code",
      "metadata": {
        "id": "BhFnJc_xJ-4D"
      },
      "source": [
        "from scipy.interpolate import lagrange\n",
        "from numpy.polynomial.polynomial import Polynomial"
      ],
      "execution_count": 184,
      "outputs": []
    },
    {
      "cell_type": "code",
      "source": [
        "poly = lagrange(X2, Y2)\n",
        "coeffs = Polynomial(poly).coef\n",
        "coeffs"
      ],
      "metadata": {
        "colab": {
          "base_uri": "https://localhost:8080/"
        },
        "id": "aFjJiQsvnJ8M",
        "outputId": "d4183b95-dcc0-4353-cfde-38e0d07c5cbc"
      },
      "execution_count": 185,
      "outputs": [
        {
          "output_type": "execute_result",
          "data": {
            "text/plain": [
              "array([-0.4748206,  0.       ,  1.       ])"
            ]
          },
          "metadata": {},
          "execution_count": 185
        }
      ]
    },
    {
      "cell_type": "code",
      "source": [
        "grYLag = [coeffs[0] * elem**2 + coeffs[1] * elem + coeffs[2] for elem in grX]\n",
        "plt.plot(grX, grYLag, label='$y = {a} + {b}x + {c}x^2$'.format(a=coeffs[0],\n",
        "                                                  b=coeffs[1], c=coeffs[2]))\n",
        "plt.scatter(X2, Y2, color='red', label='data')\n",
        "plt.grid()\n",
        "plt.legend()"
      ],
      "metadata": {
        "colab": {
          "base_uri": "https://localhost:8080/",
          "height": 284
        },
        "id": "NIQwLuHanUvP",
        "outputId": "c1308efb-9337-4d2b-d158-61a8dfc36994"
      },
      "execution_count": 186,
      "outputs": [
        {
          "output_type": "execute_result",
          "data": {
            "text/plain": [
              "<matplotlib.legend.Legend at 0x7fcd9c6b5350>"
            ]
          },
          "metadata": {},
          "execution_count": 186
        },
        {
          "output_type": "display_data",
          "data": {
            "image/png": "[encoded data removed]",
            "text/plain": [
              "<Figure size 432x288 with 1 Axes>"
            ]
          },
          "metadata": {
            "needs_background": "light"
          }
        }
      ]
    },
    {
      "cell_type": "markdown",
      "metadata": {
        "id": "zugBxFZiVnvG"
      },
      "source": [
        "## Сплайны\n",
        "\n",
        "## Задача 4\n",
        "Аппроксимировать $f(x) = \\tan(x^2)$ на отрезке $[-0.75, 0.75]$ квадратичным и кубическим сплайном с узлами на концах и в трех равномерно распределенных промежуточных точках. \n",
        "\n",
        "Построить на графике исходную функцию и сплайны."
      ]
    },
    {
      "cell_type": "code",
      "metadata": {
        "id": "j2WczeQKSYuQ"
      },
      "source": [
        "# Kuadro spline auxiliary functions\n",
        "a0, a1, a2, x = sympy.symbols('a0:3 x')\n",
        "\n",
        "def spl2(a0, a1, a2, x):\n",
        "    return a0 + a1 * x + a2 * x ** 2\n",
        "def dspl2(a0, a1, a2, x, x0):\n",
        "    return spl2(a0, a1, a2, x).diff(x).subs(x, x0)\n",
        "def f(x):\n",
        "    return sympy.tan(x ** 2)\n",
        "def df(x, x0):\n",
        "    return f(x).diff(x).subs(x, x0)\n",
        "def sys(df0, f0, f1, x0, x1):\n",
        "    return [sympy.Eq(dspl2(a0, a1, a2, x, x0), df0),\n",
        "           sympy.Eq(spl2(a0, a1, a2, x0), f0),\n",
        "           sympy.Eq(spl2(a0, a1, a2, x1), f1),\n",
        "           ]\n"
      ],
      "execution_count": 230,
      "outputs": []
    },
    {
      "cell_type": "code",
      "source": [
        "def kuadroSpline(X):\n",
        "  X.sort()\n",
        "  F = [f(xi) for xi in X]\n",
        "  A = sympy.symbols('a0:3')\n",
        "\n",
        "  df0 = f(x).diff(x).subs(x, X[0])\n",
        "  dF = [df0]\n",
        "  splines = []\n",
        "  for i in range(len(X) - 1):\n",
        "    syst = sys(dF[i], F[i], F[i+1], X[i], X[i+1])\n",
        "    res = sympy.solve(syst)\n",
        "    spline = res[A[0]] + res[A[1]]*x + res[A[2]]*x**2\n",
        "    df = spline.diff(x).subs(x, X[i+1])\n",
        "    dF.append(df)\n",
        "    splines.append(spline)\n",
        "  \n",
        "  X_ls = [np.linspace(X[i], X[i+1]) for i in range(len(X) - 1)]\n",
        "  Y = [[splines[i].subs(x, item) for item in X_ls[i]] for i in range(len(X) - 1)]\n",
        "  X_lsF = np.linspace(X[0], X[-1])\n",
        "  FX = [f(elem) for elem in X_lsF]\n",
        "  for i in range (len(X) - 1):\n",
        "    plt.plot(X_ls[i], Y[i])\n",
        "  plt.plot(X_lsF, FX, 'c--')\n",
        "  plt.scatter(X, [f(elem) for elem in X])\n"
      ],
      "metadata": {
        "id": "rU7EZ_RE5-Wd"
      },
      "execution_count": 236,
      "outputs": []
    },
    {
      "cell_type": "code",
      "source": [
        "# Cube spline auxiliary functions\n",
        "a0, a1, a2, a3, x = sympy.symbols('a0:4 x')\n",
        "\n",
        "def spl3(a0, a1, a2, a3, x):\n",
        "    return a0 + a1 * x + a2 * x ** 2 + a3 * x ** 3\n",
        "\n",
        "def dspl3(a1, a2, a3, x):\n",
        "    return a1 + 2 * a2 * x + 3 * a3 * x ** 2\n",
        "\n",
        "def d2spl3(a2, a3, x):\n",
        "    return 2 * a2 + 6 * a3 * x\n",
        "\n",
        "def sys_spl(xi, xi_1, yi, yi_1, d1spl, d2spl):\n",
        "    return [sympy.Eq(spl3(a0, a1, a2, a3, xi_1), yi_1),\n",
        "            sympy.Eq(spl3(a0, a1, a2, a3, xi), yi),\n",
        "            sympy.Eq(dspl3(a1, a2, a3, xi_1), d1spl),\n",
        "            sympy.Eq(d2spl3(a2, a3, xi_1), d2spl)]\n",
        "\n",
        "def fx(x, lib='sympy'):\n",
        "    if lib == 'sympy':\n",
        "        return sympy.sin(x)\n",
        "    if lib == 'numpy':\n",
        "        return np.sin(x)"
      ],
      "metadata": {
        "id": "nIVgC_VPPdg0"
      },
      "execution_count": 232,
      "outputs": []
    },
    {
      "cell_type": "code",
      "source": [
        "def cubeSpline(X):\n",
        "  X.sort()\n",
        "  F = [f(xi) for xi in X]\n",
        "  A = sympy.symbols('a0:4')\n",
        "\n",
        "  df0_1 = f(x).diff(x).subs(x, X[0])\n",
        "  df0_2 = f(x).diff(x, 2).subs(x, X[0])\n",
        "  dF_1 = [df0_1]\n",
        "  dF_2 = [df0_2]\n",
        "  splines = []\n",
        "  for i in range(len(X) - 1):\n",
        "    syst = sys_spl(X[i+1], X[i], F[i+1], F[i], dF_1[i], dF_2[i])\n",
        "    res = sympy.solve(syst)\n",
        "    spline = res[A[0]] + res[A[1]] * x + res[A[2]] * x ** 2 + res[A[3]] * x ** 3\n",
        "    df_1 = spline.diff(x).subs(x, X[i+1])\n",
        "    df_2 = spline.diff(x, 2).subs(x, X[i+1])\n",
        "    dF_1.append(df_1)\n",
        "    dF_2.append(df_2)\n",
        "    splines.append(spline)\n",
        "  \n",
        "  X_ls = [np.linspace(X[i], X[i+1]) for i in range(len(X) - 1)]\n",
        "  Y = [[splines[i].subs(x, item) for item in X_ls[i]] for i in range(len(X) - 1)]\n",
        "  X_lsF = np.linspace(X[0], X[-1])\n",
        "  FX = [f(elem) for elem in X_lsF]\n",
        "  for i in range (len(X) - 1):\n",
        "    plt.plot(X_ls[i], Y[i])\n",
        "  plt.plot(X_lsF, FX, 'c--')\n",
        "  plt.scatter(X, [f(elem) for elem in X])\n"
      ],
      "metadata": {
        "id": "NoRARf9mQ4Dx"
      },
      "execution_count": 235,
      "outputs": []
    },
    {
      "cell_type": "code",
      "source": [
        "X = [-0.75, -0.75/2, 0, 0.75/2, 0.75]\n",
        "kuadroSpline(X)"
      ],
      "metadata": {
        "colab": {
          "base_uri": "https://localhost:8080/",
          "height": 265
        },
        "id": "BLnXRdIOIIly",
        "outputId": "2f70b741-d266-46c8-8efa-cf40ceaf6c9f"
      },
      "execution_count": 237,
      "outputs": [
        {
          "output_type": "display_data",
          "data": {
            "image/png": "[encoded data removed]",
            "text/plain": [
              "<Figure size 432x288 with 1 Axes>"
            ]
          },
          "metadata": {
            "needs_background": "light"
          }
        }
      ]
    },
    {
      "cell_type": "code",
      "source": [
        "cubeSpline(X)"
      ],
      "metadata": {
        "colab": {
          "base_uri": "https://localhost:8080/",
          "height": 265
        },
        "id": "RMdyPKU-p3IU",
        "outputId": "48482174-af38-465d-b31b-d338a173ef5b"
      },
      "execution_count": 238,
      "outputs": [
        {
          "output_type": "display_data",
          "data": {
            "image/png": "[encoded data removed]",
            "text/plain": [
              "<Figure size 432x288 with 1 Axes>"
            ]
          },
          "metadata": {
            "needs_background": "light"
          }
        }
      ]
    },
    {
      "cell_type": "markdown",
      "metadata": {
        "id": "1XC5Wo-VVnvL"
      },
      "source": [
        "## Сплайны scipy.interpolate: interp1d, splrep, InterpolatedUnivariateSpline\n",
        "https://docs.scipy.org/doc/scipy/reference/interpolate.html#module-scipy.interpolate\n",
        "#### Кубический сплайн:\n",
        "https://docs.scipy.org/doc/scipy/reference/generated/scipy.interpolate.CubicSpline.html#scipy.interpolate.CubicSpline\n",
        "####  interp1d\n",
        "https://docs.scipy.org/doc/scipy/reference/generated/scipy.interpolate.interp1d.html#scipy.interpolate.interp1d\n",
        "####  Полиномы Бернштейна\n",
        "https://docs.scipy.org/doc/scipy/reference/generated/scipy.interpolate.BPoly.html#scipy.interpolate.BPoly\n",
        "\n",
        "Теперь будем строить сплайны средствами scipy.interpolate, вначале подключим необходимые функции:"
      ]
    },
    {
      "cell_type": "markdown",
      "metadata": {
        "id": "-DMIm1NtVnvM"
      },
      "source": [
        "## interp1d\n",
        "Параметры $x$ и  $y$ - координаты узлов сплайна, \n",
        "kind - str или int, необязательный параметр, определяющий тип сплайна, по умолчанию линейный (‘linear’), можно сделать ‘nearest’, ‘nearest-up’, ‘zero’, ‘slinear’, ‘quadratic’, ‘cubic’, ‘previous’ или ‘next’. \n",
        "\n",
        "‘zero’, ‘slinear’, ‘quadratic’ и ‘cubic’ обозначают интерполяцию нулевого, первого, второго или третьего порядка,\n",
        "\n",
        "‘previous’ и ‘next’ просто возвращают предыдущее или следующее значение функции\n",
        "\n",
        "‘nearest-up’ и ‘nearest’ различаются обработкой полуцелых чисел, таких как 0.5, 1.5.\n"
      ]
    },
    {
      "cell_type": "markdown",
      "metadata": {
        "id": "nWVGdlq6VnvO"
      },
      "source": [
        "## Кривые Безье\n",
        "#### Линейная кривая Безье\n",
        "$P_0$ и $P_1$ две различные точки, тогда линейная кривая Безье - отрезок, соединяющий эти точки:\n",
        "$$\n",
        "B(t) = P_0 + t(P_1 - P_0) = (1 - t)P_0 + tP_1,\\quad 1\\le t \\le 1 \n",
        "$$\n",
        "#### Квадратичная кривая Безье\n",
        "$P_0$, $P_1$ и $P_2$ три различные точки, тогда квадратичная кривая Безье - отрезок, соединяющий эти точки:\n",
        "$$\n",
        "B(t) = (1 - t)^2P_0 + 2(1 - t)tP_1 + t^2P_2 = P_1 + (1 - t)^2(P_0 - P_1) + t^2(P_2 - P_1),\\quad 1\\le t \\le 1 \n",
        "$$\n",
        "#### Кубическая кривая Безье\n",
        "$P_0$, $P_1$, $P_2$ и $P_3$ четыре различные точки, тогда кубическая кривая Безье - отрезок, соединяющий эти точки:\n",
        "$$\n",
        "B(t) = (1 - t)^3P_0 + 3(1 - t)^2tP_1 + 3(1 - t)t^2P_2 +t^3P_3,\\quad 1\\le t \\le 1 \n",
        "$$\n",
        "#### Общий вид кривой Безье\n",
        "$P_0$, $P_1$, ...  и $P_n$ - $n$ различных точек, тогда линейная кривая Безье - отрезок, соединяющий эти точки:\n",
        "$$\n",
        "B(t) = \\sum_{k=0}^n C_n^k(1 - t)^{n - k}t^kP_k,\\quad 1\\le t \\le 1 \n",
        "$$\n",
        "\n",
        "https://bezier.readthedocs.io/en/stable/python/reference/bezier.curve.html\n",
        "\n",
        "## Задача 5\n",
        "Построить кривую Безье по пяти равномерно распределенным точкам на графике $\\sin x^2$ на отрезке  $\\left[\\frac{-\\pi}{6}, \\frac{\\pi}{2}\\right]$.\n",
        "\n",
        "Для каждой точки построим полином Бернштейна $C_n^k(1 - t)^{n - k}t^k$, $1\\le t \\le 1$ и составим сумму произведений соответствующих координат точки на полиномы  Бернштейна."
      ]
    },
    {
      "cell_type": "code",
      "metadata": {
        "id": "sXtpSRupSXBr"
      },
      "source": [
        "from scipy.special import comb\n",
        "def my_B(X, Y):\n",
        "    n = len(X)\n",
        "    def my_B_x(t):\n",
        "        return sum([X[k] * comb(n - 1, k) * (1 - t) ** (n - k - 1) * t ** k for k in range(n)])\n",
        "    def my_B_y(t):\n",
        "        return sum([Y[k] * comb(n - 1, k) * (1 - t) ** (n - k - 1) * t ** k for k in range(n)])\n",
        "    return (my_B_x, my_B_y)"
      ],
      "execution_count": 7,
      "outputs": []
    },
    {
      "cell_type": "code",
      "source": [
        "k = (np.pi/2 - np.pi/6) / 5\n",
        "X = [-np.pi/6 + k * i for i in range(5)]\n",
        "Y = [np.sin(elem*elem) for elem in X]\n",
        "\n",
        "B_x, B_y = my_B(X, Y)\n",
        "X1 = np.array(X).reshape(5, 1)\n",
        "Y1 = np.array(Y).reshape(5, 1)\n",
        "x = [0, 1]\n",
        "bpX = BPoly(X1, x)\n",
        "bpY = BPoly(Y1, x)\n",
        "t_linspace = np.linspace(0, 1)\n",
        "plt.plot(bpX(t_linspace), bpY(t_linspace), 'c-', B_x(t_linspace), B_y(t_linspace), 'r:', lw=3)\n",
        "plt.scatter(X, Y)"
      ],
      "metadata": {
        "colab": {
          "base_uri": "https://localhost:8080/",
          "height": 284
        },
        "id": "f_WM_c6BwkKi",
        "outputId": "8f2cee78-dc65-4cd8-b62f-1f07c8f90b80"
      },
      "execution_count": 8,
      "outputs": [
        {
          "output_type": "execute_result",
          "data": {
            "text/plain": [
              "<matplotlib.collections.PathCollection at 0x7fbb12470710>"
            ]
          },
          "metadata": {},
          "execution_count": 8
        },
        {
          "output_type": "display_data",
          "data": {
            "image/png": "[encoded data removed]",
            "text/plain": [
              "<Figure size 432x288 with 1 Axes>"
            ]
          },
          "metadata": {
            "needs_background": "light"
          }
        }
      ]
    },
    {
      "cell_type": "markdown",
      "metadata": {
        "id": "WGYrnOmMVnvP"
      },
      "source": [
        "## Задача 6\n",
        "Построить кривую Безье Задачи 5 с помощью модуля bezier:\n",
        "\n",
        "https://bezier.readthedocs.io/en/stable/python/reference/bezier.curve.html"
      ]
    },
    {
      "cell_type": "code",
      "metadata": {
        "colab": {
          "base_uri": "https://localhost:8080/",
          "height": 419
        },
        "id": "DesVh72JVnvP",
        "outputId": "0a27e78b-cc01-4c63-8632-80bf54d04ad8"
      },
      "source": [
        "!pip install bezier #--user"
      ],
      "execution_count": 245,
      "outputs": [
        {
          "output_type": "stream",
          "name": "stdout",
          "text": [
            "Collecting bezier\n",
            "  Downloading bezier-2021.2.12-cp37-cp37m-manylinux2010_x86_64.whl (1.4 MB)\n",
            "\u001b[K     |████████████████████████████████| 1.4 MB 5.3 MB/s \n",
            "\u001b[?25hCollecting numpy>=1.20.1\n",
            "  Downloading numpy-1.21.5-cp37-cp37m-manylinux_2_12_x86_64.manylinux2010_x86_64.whl (15.7 MB)\n",
            "\u001b[K     |████████████████████████████████| 15.7 MB 308 kB/s \n",
            "\u001b[?25hInstalling collected packages: numpy, bezier\n",
            "  Attempting uninstall: numpy\n",
            "    Found existing installation: numpy 1.19.0\n",
            "    Uninstalling numpy-1.19.0:\n",
            "      Successfully uninstalled numpy-1.19.0\n",
            "\u001b[31mERROR: pip's dependency resolver does not currently take into account all the packages that are installed. This behaviour is the source of the following dependency conflicts.\n",
            "yellowbrick 1.3.post1 requires numpy<1.20,>=1.16.0, but you have numpy 1.21.5 which is incompatible.\n",
            "datascience 0.10.6 requires folium==0.2.1, but you have folium 0.8.3 which is incompatible.\n",
            "albumentations 0.1.12 requires imgaug<0.2.7,>=0.2.5, but you have imgaug 0.2.9 which is incompatible.\u001b[0m\n",
            "Successfully installed bezier-2021.2.12 numpy-1.21.5\n"
          ]
        },
        {
          "output_type": "display_data",
          "data": {
            "application/vnd.colab-display-data+json": {
              "pip_warning": {
                "packages": [
                  "numpy"
                ]
              }
            }
          },
          "metadata": {}
        }
      ]
    },
    {
      "cell_type": "code",
      "metadata": {
        "id": "bycToZPRVnvP"
      },
      "source": [
        "import bezier"
      ],
      "execution_count": 9,
      "outputs": []
    },
    {
      "cell_type": "code",
      "metadata": {
        "id": "4rOCXtseSgng",
        "colab": {
          "base_uri": "https://localhost:8080/"
        },
        "outputId": "fbc14292-42c9-46a1-d10c-f39b727a6b2e"
      },
      "source": [
        "nodes = np.array([X, Y])\n",
        "curve = bezier.Curve(nodes, degree=4)\n",
        "curve"
      ],
      "execution_count": 11,
      "outputs": [
        {
          "output_type": "execute_result",
          "data": {
            "text/plain": [
              "<Curve (degree=4, dimension=2)>"
            ]
          },
          "metadata": {},
          "execution_count": 11
        }
      ]
    },
    {
      "cell_type": "code",
      "source": [
        "curve.evaluate(0.75)"
      ],
      "metadata": {
        "colab": {
          "base_uri": "https://localhost:8080/"
        },
        "id": "KuuCNAChzDuu",
        "outputId": "d43ba1a4-e7f9-4a0d-8166-4c6dea1ccc44"
      },
      "execution_count": 12,
      "outputs": [
        {
          "output_type": "execute_result",
          "data": {
            "text/plain": [
              "array([[0.10471976],\n",
              "       [0.04379322]])"
            ]
          },
          "metadata": {},
          "execution_count": 12
        }
      ]
    },
    {
      "cell_type": "code",
      "source": [
        "curve.plot(100)"
      ],
      "metadata": {
        "colab": {
          "base_uri": "https://localhost:8080/",
          "height": 284
        },
        "id": "FKaiBcu5zIXu",
        "outputId": "3511b5d4-6bb7-4dcd-c378-720a950fa173"
      },
      "execution_count": 13,
      "outputs": [
        {
          "output_type": "execute_result",
          "data": {
            "text/plain": [
              "<AxesSubplot:>"
            ]
          },
          "metadata": {},
          "execution_count": 13
        },
        {
          "output_type": "display_data",
          "data": {
            "image/png": "[encoded data removed]",
            "text/plain": [
              "<Figure size 432x288 with 1 Axes>"
            ]
          },
          "metadata": {
            "needs_background": "light"
          }
        }
      ]
    }
  ]
}