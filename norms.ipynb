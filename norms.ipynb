{
  "nbformat": 4,
  "nbformat_minor": 0,
  "metadata": {
    "colab": {
      "name": "Davydov_Applied_Alg_2022_sem_6_norm_task.ipynb",
      "provenance": [],
      "collapsed_sections": []
    },
    "kernelspec": {
      "name": "python3",
      "display_name": "Python 3"
    },
    "language_info": {
      "name": "python"
    }
  },
  "cells": [
    {
      "cell_type": "code",
      "execution_count": null,
      "metadata": {
        "id": "yZSNC_8Q5ITM"
      },
      "outputs": [],
      "source": [
        "import numpy as np\n",
        "import matplotlib.pyplot as plt\n",
        "import pandas as pd\n",
        "import scipy.linalg\n",
        "import sympy\n",
        "from sympy import S, latex\n",
        "from google.colab import files\n",
        "from IPython.display import Math, Latex"
      ]
    },
    {
      "cell_type": "markdown",
      "source": [
        "# Занятие 6\n",
        "# Прикладная алгебра и численные методы\n",
        "## Нормы\n",
        "**Нормы в scipy.linalg** и **numpy.linalg**\n",
        "\n",
        "https://docs.scipy.org/doc/scipy/reference/generated/scipy.linalg.norm.html\n",
        "\n",
        "**scipy.linalg.norm(a, ord=None, axis=None, keepdims=False, check_finite=True)**\n",
        "\n",
        "https://numpy.org/doc/stable/reference/generated/numpy.linalg.norm.html\n",
        "\n",
        "**linalg.norm(a, ord=None, axis=None, keepdims=False)**\n",
        "# Задание 1.\n",
        "\n",
        "Вычислить $p$-нормы векторов $\\bar x(q, 1 - q, 2q, q-3, 4f + 5, -fq)$ при $p = 1, 2, 3, \\infty$, $q = 1, 10$, $f = -5, 0, 2$.\n",
        "\n",
        "На экран вывести для каждого набора значений $f$ и $q$ на отдельной строчке вектор и все его нормы."
      ],
      "metadata": {
        "id": "QLDsNm7_5Tr6"
      }
    },
    {
      "cell_type": "code",
      "source": [
        "\n",
        "for q in (1, 10):\n",
        "  for f in (-5, 0, 2):\n",
        "    vec = np.array([q, 1 - q, 2*q, q - 3, 4 * f + 5, -f * q]);\n",
        "    display(vec);\n",
        "    for p in [1, 2, 3, np.inf]:\n",
        "      display(f'{p}: {round(scipy.linalg.norm(vec, p), 4)} --- {round(np.linalg.norm(vec, p), 4)}')\n"
      ],
      "metadata": {
        "id": "PB4ATvy3ijwa",
        "colab": {
          "base_uri": "https://localhost:8080/",
          "height": 574
        },
        "outputId": "69bc59db-e989-495e-e997-c8aeec5eb9e9"
      },
      "execution_count": null,
      "outputs": [
        {
          "output_type": "display_data",
          "data": {
            "text/plain": [
              "array([  1,   0,   2,  -2, -15,   5])"
            ]
          },
          "metadata": {}
        },
        {
          "output_type": "display_data",
          "data": {
            "application/vnd.google.colaboratory.intrinsic+json": {
              "type": "string"
            },
            "text/plain": [
              "'1: 25.0 --- 25.0'"
            ]
          },
          "metadata": {}
        },
        {
          "output_type": "display_data",
          "data": {
            "application/vnd.google.colaboratory.intrinsic+json": {
              "type": "string"
            },
            "text/plain": [
              "'2: 16.0935 --- 16.0935'"
            ]
          },
          "metadata": {}
        },
        {
          "output_type": "display_data",
          "data": {
            "application/vnd.google.colaboratory.intrinsic+json": {
              "type": "string"
            },
            "text/plain": [
              "'3: 15.2075 --- 15.2075'"
            ]
          },
          "metadata": {}
        },
        {
          "output_type": "display_data",
          "data": {
            "application/vnd.google.colaboratory.intrinsic+json": {
              "type": "string"
            },
            "text/plain": [
              "'inf: 15.0 --- 15.0'"
            ]
          },
          "metadata": {}
        },
        {
          "output_type": "display_data",
          "data": {
            "text/plain": [
              "array([ 1,  0,  2, -2,  5,  0])"
            ]
          },
          "metadata": {}
        },
        {
          "output_type": "display_data",
          "data": {
            "application/vnd.google.colaboratory.intrinsic+json": {
              "type": "string"
            },
            "text/plain": [
              "'1: 10.0 --- 10.0'"
            ]
          },
          "metadata": {}
        },
        {
          "output_type": "display_data",
          "data": {
            "application/vnd.google.colaboratory.intrinsic+json": {
              "type": "string"
            },
            "text/plain": [
              "'2: 5.831 --- 5.831'"
            ]
          },
          "metadata": {}
        },
        {
          "output_type": "display_data",
          "data": {
            "application/vnd.google.colaboratory.intrinsic+json": {
              "type": "string"
            },
            "text/plain": [
              "'3: 5.2171 --- 5.2171'"
            ]
          },
          "metadata": {}
        },
        {
          "output_type": "display_data",
          "data": {
            "application/vnd.google.colaboratory.intrinsic+json": {
              "type": "string"
            },
            "text/plain": [
              "'inf: 5.0 --- 5.0'"
            ]
          },
          "metadata": {}
        },
        {
          "output_type": "display_data",
          "data": {
            "text/plain": [
              "array([ 1,  0,  2, -2, 13, -2])"
            ]
          },
          "metadata": {}
        },
        {
          "output_type": "display_data",
          "data": {
            "application/vnd.google.colaboratory.intrinsic+json": {
              "type": "string"
            },
            "text/plain": [
              "'1: 20.0 --- 20.0'"
            ]
          },
          "metadata": {}
        },
        {
          "output_type": "display_data",
          "data": {
            "application/vnd.google.colaboratory.intrinsic+json": {
              "type": "string"
            },
            "text/plain": [
              "'2: 13.4907 --- 13.4907'"
            ]
          },
          "metadata": {}
        },
        {
          "output_type": "display_data",
          "data": {
            "application/vnd.google.colaboratory.intrinsic+json": {
              "type": "string"
            },
            "text/plain": [
              "'3: 13.0491 --- 13.0491'"
            ]
          },
          "metadata": {}
        },
        {
          "output_type": "display_data",
          "data": {
            "application/vnd.google.colaboratory.intrinsic+json": {
              "type": "string"
            },
            "text/plain": [
              "'inf: 13.0 --- 13.0'"
            ]
          },
          "metadata": {}
        },
        {
          "output_type": "display_data",
          "data": {
            "text/plain": [
              "array([ 10,  -9,  20,   7, -15,  50])"
            ]
          },
          "metadata": {}
        },
        {
          "output_type": "display_data",
          "data": {
            "application/vnd.google.colaboratory.intrinsic+json": {
              "type": "string"
            },
            "text/plain": [
              "'1: 111.0 --- 111.0'"
            ]
          },
          "metadata": {}
        },
        {
          "output_type": "display_data",
          "data": {
            "application/vnd.google.colaboratory.intrinsic+json": {
              "type": "string"
            },
            "text/plain": [
              "'2: 57.9224 --- 57.9224'"
            ]
          },
          "metadata": {}
        },
        {
          "output_type": "display_data",
          "data": {
            "application/vnd.google.colaboratory.intrinsic+json": {
              "type": "string"
            },
            "text/plain": [
              "'3: 51.7322 --- 51.7322'"
            ]
          },
          "metadata": {}
        },
        {
          "output_type": "display_data",
          "data": {
            "application/vnd.google.colaboratory.intrinsic+json": {
              "type": "string"
            },
            "text/plain": [
              "'inf: 50.0 --- 50.0'"
            ]
          },
          "metadata": {}
        },
        {
          "output_type": "display_data",
          "data": {
            "text/plain": [
              "array([10, -9, 20,  7,  5,  0])"
            ]
          },
          "metadata": {}
        },
        {
          "output_type": "display_data",
          "data": {
            "application/vnd.google.colaboratory.intrinsic+json": {
              "type": "string"
            },
            "text/plain": [
              "'1: 51.0 --- 51.0'"
            ]
          },
          "metadata": {}
        },
        {
          "output_type": "display_data",
          "data": {
            "application/vnd.google.colaboratory.intrinsic+json": {
              "type": "string"
            },
            "text/plain": [
              "'2: 25.593 --- 25.593'"
            ]
          },
          "metadata": {}
        },
        {
          "output_type": "display_data",
          "data": {
            "application/vnd.google.colaboratory.intrinsic+json": {
              "type": "string"
            },
            "text/plain": [
              "'3: 21.6849 --- 21.6849'"
            ]
          },
          "metadata": {}
        },
        {
          "output_type": "display_data",
          "data": {
            "application/vnd.google.colaboratory.intrinsic+json": {
              "type": "string"
            },
            "text/plain": [
              "'inf: 20.0 --- 20.0'"
            ]
          },
          "metadata": {}
        },
        {
          "output_type": "display_data",
          "data": {
            "text/plain": [
              "array([ 10,  -9,  20,   7,  13, -20])"
            ]
          },
          "metadata": {}
        },
        {
          "output_type": "display_data",
          "data": {
            "application/vnd.google.colaboratory.intrinsic+json": {
              "type": "string"
            },
            "text/plain": [
              "'1: 79.0 --- 79.0'"
            ]
          },
          "metadata": {}
        },
        {
          "output_type": "display_data",
          "data": {
            "application/vnd.google.colaboratory.intrinsic+json": {
              "type": "string"
            },
            "text/plain": [
              "'2: 34.6266 --- 34.6266'"
            ]
          },
          "metadata": {}
        },
        {
          "output_type": "display_data",
          "data": {
            "application/vnd.google.colaboratory.intrinsic+json": {
              "type": "string"
            },
            "text/plain": [
              "'3: 27.2653 --- 27.2653'"
            ]
          },
          "metadata": {}
        },
        {
          "output_type": "display_data",
          "data": {
            "application/vnd.google.colaboratory.intrinsic+json": {
              "type": "string"
            },
            "text/plain": [
              "'inf: 20.0 --- 20.0'"
            ]
          },
          "metadata": {}
        }
      ]
    },
    {
      "cell_type": "markdown",
      "source": [
        "# Рисование шаров в нормах\n",
        "# Задание 2\n",
        "$V = R^2$, $\\nu(x)=|x|_p$, $p \\ge 1$.\n",
        "$B = B_r^\\nu(A)$ - шар радиуса $r$ с ценром в $\\bar A$.\n",
        "\n",
        "Нарисовать шары в $p$-норме радиусов $r = 1 + p$ с центром в точке $A(p, 2 - p)$, $p = 1$, $3/2$, $4$, $\\infty$."
      ],
      "metadata": {
        "id": "4IHwQhmhI_7_"
      }
    },
    {
      "cell_type": "code",
      "source": [
        "def Y(X, p, r, dY):\n",
        "    Y1 = (r**p - abs(X) ** p) ** (1 / p)\n",
        "    return (-Y1 + dY, Y1 + dY)\n",
        "\n",
        "XX = np.linspace(-10, 10)\n",
        "plt.axis('equal')\n",
        "for p, label, color in zip((1, 3/2, 4, 10),\n",
        "                    (1, '3/2', 4, '\\\\infty'),\n",
        "                    ('r-', 'g--', 'b:', 'm-')):\n",
        "    r = 1 + p\n",
        "    c = [p, 2 - p]\n",
        "    X = np.linspace(-r, r)\n",
        "    Y1, Y2 = Y(X, p, 1 + p, c[1])\n",
        "    plt.plot(X + c[0], Y1, color)\n",
        "    plt.scatter(c[0], c[1], color=color[0])\n",
        "    plt.plot(X + c[0], Y2, color, label=f'$p = {label}$')\n",
        "plt.legend() \n",
        "plt.grid()"
      ],
      "metadata": {
        "id": "s1PM6eWvilA6",
        "colab": {
          "base_uri": "https://localhost:8080/",
          "height": 265
        },
        "outputId": "5d2fc379-dfe0-4ac6-cb38-6696cc3fb2b5"
      },
      "execution_count": null,
      "outputs": [
        {
          "output_type": "display_data",
          "data": {
            "image/png": "[encoded data removed]",
            "text/plain": [
              "<Figure size 432x288 with 1 Axes>"
            ]
          },
          "metadata": {
            "needs_background": "light"
          }
        }
      ]
    },
    {
      "cell_type": "markdown",
      "source": [
        "# Задание 3\n",
        "Нарисовать шары в $p$-норме радиусов $r = 1/p$ с центром в точке $A(0, p)$, с центром в точке $A(0, -p)$, с центром в точке $A(p, 0)$, с центром в точке $A(-p, 0)$, $p = 1$, $2$, $2.5$.\n",
        "\n",
        "Установить \n",
        "\n",
        "1) пределы по осям \n",
        "\n",
        "2) зарубки (тики) и подписи к ним на осях\n",
        "\n",
        "3) положение осей координат с пересечением в начале координат\n",
        "\n",
        "4) стрелки на концах осей координат\n",
        "\n",
        "Отметить тем же цветом, что и шар, его центр.\n"
      ],
      "metadata": {
        "id": "wlea4bs0xeh8"
      }
    },
    {
      "cell_type": "code",
      "source": [
        ""
      ],
      "metadata": {
        "id": "hOWZrnD-imJi"
      },
      "execution_count": null,
      "outputs": []
    },
    {
      "cell_type": "markdown",
      "source": [
        "# Задание 4\n",
        "$V = R^3$, $\\nu(x)=|x|_p$, $p \\ge 1$.\n",
        "$B = B_r^\\nu(A)$ - шар радиуса $r$ с центром в $\\bar A$.\n",
        "\n",
        "Нарисовать шары в $p$-норме радиусов $r = 1 + p$ с центром в точке $A(p, p, p)$, $p = 1$, $3/2$, $4$, $\\infty$."
      ],
      "metadata": {
        "id": "mJ6u3onjau6N"
      }
    },
    {
      "cell_type": "code",
      "source": [
        ""
      ],
      "metadata": {
        "id": "lvRfIhaHinP5"
      },
      "execution_count": null,
      "outputs": []
    }
  ]
}